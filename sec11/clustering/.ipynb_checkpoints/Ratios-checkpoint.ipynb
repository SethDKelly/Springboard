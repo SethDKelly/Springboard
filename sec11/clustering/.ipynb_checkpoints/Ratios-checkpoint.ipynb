{
 "cells": [
  {
   "cell_type": "code",
   "execution_count": 1,
   "metadata": {},
   "outputs": [
    {
     "name": "stdout",
     "output_type": "stream",
     "text": [
      "[0.03571428571428571, 0.07142857142857142, 0.10714285714285714, 0.14285714285714285, 0.17857142857142858, 0.21428571428571427, 0.25]\n",
      "1.0\n",
      "[3.571428571428571, 7.142857142857142, 10.714285714285714, 14.285714285714285, 17.857142857142858, 21.428571428571427, 25.0]\n"
     ]
    }
   ],
   "source": [
    "parts = [0,0,0,0,0,0,0]\n",
    "total = 0\n",
    "ratio = parts\n",
    "\n",
    "for x in range(7):\n",
    "    fraction = (x+1)/28\n",
    "    parts[x] = fraction\n",
    "    total += fraction\n",
    "print(parts)\n",
    "print(total)\n",
    "\n",
    "for x in range(7) :\n",
    "    ratio[x] = parts[x] * 100\n",
    "print(ratio)"
   ]
  }
 ],
 "metadata": {
  "kernelspec": {
   "display_name": "Python 3",
   "language": "python",
   "name": "python3"
  },
  "language_info": {
   "codemirror_mode": {
    "name": "ipython",
    "version": 3
   },
   "file_extension": ".py",
   "mimetype": "text/x-python",
   "name": "python",
   "nbconvert_exporter": "python",
   "pygments_lexer": "ipython3",
   "version": "3.6.2"
  }
 },
 "nbformat": 4,
 "nbformat_minor": 2
}

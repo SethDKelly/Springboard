{
 "cells": [
  {
   "cell_type": "markdown",
   "metadata": {},
   "source": [
    "# Examining Racial Discrimination in the US Job Market\n",
    "\n",
    "### Background\n",
    "Racial discrimination continues to be pervasive in cultures throughout the world. Researchers examined the level of racial discrimination in the United States labor market by randomly assigning identical résumés to black-sounding or white-sounding names and observing the impact on requests for interviews from employers.\n",
    "\n",
    "### Data\n",
    "In the dataset provided, each row represents a resume. The 'race' column has two values, 'b' and 'w', indicating black-sounding and white-sounding. The column 'call' has two values, 1 and 0, indicating whether the resume received a call from employers or not.\n",
    "\n",
    "Note that the 'b' and 'w' values in race are assigned randomly to the resumes when presented to the employer."
   ]
  },
  {
   "cell_type": "markdown",
   "metadata": {},
   "source": [
    "### Exercises\n",
    "You will perform a statistical analysis to establish whether race has a significant impact on the rate of callbacks for resumes.\n",
    "\n",
    "Answer the following questions **in this notebook below and submit to your Github account**. \n",
    "\n",
    "   1. What test is appropriate for this problem? Does CLT apply?\n",
    "   2. What are the null and alternate hypotheses?\n",
    "   3. Compute margin of error, confidence interval, and p-value. Try using both the bootstrapping and the frequentist statistical approaches.\n",
    "   4. Write a story describing the statistical significance in the context or the original problem.\n",
    "   5. Does your analysis mean that race/name is the most important factor in callback success? Why or why not? If not, how would you amend your analysis?\n",
    "\n",
    "You can include written notes in notebook cells using Markdown: \n",
    "   - In the control panel at the top, choose Cell > Cell Type > Markdown\n",
    "   - Markdown syntax: http://nestacms.com/docs/creating-content/markdown-cheat-sheet\n",
    "\n",
    "\n",
    "#### Resources\n",
    "+ Experiment information and data source: http://www.povertyactionlab.org/evaluation/discrimination-job-market-united-states\n",
    "+ Scipy statistical methods: http://docs.scipy.org/doc/scipy/reference/stats.html \n",
    "+ Markdown syntax: http://nestacms.com/docs/creating-content/markdown-cheat-sheet\n",
    "+ Formulas for the Bernoulli distribution: https://en.wikipedia.org/wiki/Bernoulli_distribution\n",
    "</div>\n",
    "****"
   ]
  },
  {
   "cell_type": "code",
   "execution_count": 1,
   "metadata": {},
   "outputs": [],
   "source": [
    "import pandas as pd\n",
    "import numpy as np\n",
    "from scipy import stats\n",
    "\n",
    "import matplotlib.pyplot as plt\n",
    "import seaborn as sns"
   ]
  },
  {
   "cell_type": "code",
   "execution_count": 2,
   "metadata": {},
   "outputs": [],
   "source": [
    "data = pd.io.stata.read_stata('data/us_job_market_discrimination.dta')"
   ]
  },
  {
   "cell_type": "code",
   "execution_count": 3,
   "metadata": {},
   "outputs": [
    {
     "data": {
      "text/html": [
       "<div>\n",
       "<style scoped>\n",
       "    .dataframe tbody tr th:only-of-type {\n",
       "        vertical-align: middle;\n",
       "    }\n",
       "\n",
       "    .dataframe tbody tr th {\n",
       "        vertical-align: top;\n",
       "    }\n",
       "\n",
       "    .dataframe thead th {\n",
       "        text-align: right;\n",
       "    }\n",
       "</style>\n",
       "<table border=\"1\" class=\"dataframe\">\n",
       "  <thead>\n",
       "    <tr style=\"text-align: right;\">\n",
       "      <th></th>\n",
       "      <th>id</th>\n",
       "      <th>ad</th>\n",
       "      <th>education</th>\n",
       "      <th>ofjobs</th>\n",
       "      <th>yearsexp</th>\n",
       "      <th>honors</th>\n",
       "      <th>volunteer</th>\n",
       "      <th>military</th>\n",
       "      <th>empholes</th>\n",
       "      <th>occupspecific</th>\n",
       "      <th>...</th>\n",
       "      <th>compreq</th>\n",
       "      <th>orgreq</th>\n",
       "      <th>manuf</th>\n",
       "      <th>transcom</th>\n",
       "      <th>bankreal</th>\n",
       "      <th>trade</th>\n",
       "      <th>busservice</th>\n",
       "      <th>othservice</th>\n",
       "      <th>missind</th>\n",
       "      <th>ownership</th>\n",
       "    </tr>\n",
       "  </thead>\n",
       "  <tbody>\n",
       "    <tr>\n",
       "      <th>0</th>\n",
       "      <td>b</td>\n",
       "      <td>1</td>\n",
       "      <td>4</td>\n",
       "      <td>2</td>\n",
       "      <td>6</td>\n",
       "      <td>0</td>\n",
       "      <td>0</td>\n",
       "      <td>0</td>\n",
       "      <td>1</td>\n",
       "      <td>17</td>\n",
       "      <td>...</td>\n",
       "      <td>1.0</td>\n",
       "      <td>0.0</td>\n",
       "      <td>1.0</td>\n",
       "      <td>0.0</td>\n",
       "      <td>0.0</td>\n",
       "      <td>0.0</td>\n",
       "      <td>0.0</td>\n",
       "      <td>0.0</td>\n",
       "      <td>0.0</td>\n",
       "      <td></td>\n",
       "    </tr>\n",
       "    <tr>\n",
       "      <th>1</th>\n",
       "      <td>b</td>\n",
       "      <td>1</td>\n",
       "      <td>3</td>\n",
       "      <td>3</td>\n",
       "      <td>6</td>\n",
       "      <td>0</td>\n",
       "      <td>1</td>\n",
       "      <td>1</td>\n",
       "      <td>0</td>\n",
       "      <td>316</td>\n",
       "      <td>...</td>\n",
       "      <td>1.0</td>\n",
       "      <td>0.0</td>\n",
       "      <td>1.0</td>\n",
       "      <td>0.0</td>\n",
       "      <td>0.0</td>\n",
       "      <td>0.0</td>\n",
       "      <td>0.0</td>\n",
       "      <td>0.0</td>\n",
       "      <td>0.0</td>\n",
       "      <td></td>\n",
       "    </tr>\n",
       "    <tr>\n",
       "      <th>2</th>\n",
       "      <td>b</td>\n",
       "      <td>1</td>\n",
       "      <td>4</td>\n",
       "      <td>1</td>\n",
       "      <td>6</td>\n",
       "      <td>0</td>\n",
       "      <td>0</td>\n",
       "      <td>0</td>\n",
       "      <td>0</td>\n",
       "      <td>19</td>\n",
       "      <td>...</td>\n",
       "      <td>1.0</td>\n",
       "      <td>0.0</td>\n",
       "      <td>1.0</td>\n",
       "      <td>0.0</td>\n",
       "      <td>0.0</td>\n",
       "      <td>0.0</td>\n",
       "      <td>0.0</td>\n",
       "      <td>0.0</td>\n",
       "      <td>0.0</td>\n",
       "      <td></td>\n",
       "    </tr>\n",
       "    <tr>\n",
       "      <th>3</th>\n",
       "      <td>b</td>\n",
       "      <td>1</td>\n",
       "      <td>3</td>\n",
       "      <td>4</td>\n",
       "      <td>6</td>\n",
       "      <td>0</td>\n",
       "      <td>1</td>\n",
       "      <td>0</td>\n",
       "      <td>1</td>\n",
       "      <td>313</td>\n",
       "      <td>...</td>\n",
       "      <td>1.0</td>\n",
       "      <td>0.0</td>\n",
       "      <td>1.0</td>\n",
       "      <td>0.0</td>\n",
       "      <td>0.0</td>\n",
       "      <td>0.0</td>\n",
       "      <td>0.0</td>\n",
       "      <td>0.0</td>\n",
       "      <td>0.0</td>\n",
       "      <td></td>\n",
       "    </tr>\n",
       "    <tr>\n",
       "      <th>4</th>\n",
       "      <td>b</td>\n",
       "      <td>1</td>\n",
       "      <td>3</td>\n",
       "      <td>3</td>\n",
       "      <td>22</td>\n",
       "      <td>0</td>\n",
       "      <td>0</td>\n",
       "      <td>0</td>\n",
       "      <td>0</td>\n",
       "      <td>313</td>\n",
       "      <td>...</td>\n",
       "      <td>1.0</td>\n",
       "      <td>1.0</td>\n",
       "      <td>0.0</td>\n",
       "      <td>0.0</td>\n",
       "      <td>0.0</td>\n",
       "      <td>0.0</td>\n",
       "      <td>0.0</td>\n",
       "      <td>1.0</td>\n",
       "      <td>0.0</td>\n",
       "      <td>Nonprofit</td>\n",
       "    </tr>\n",
       "  </tbody>\n",
       "</table>\n",
       "<p>5 rows × 65 columns</p>\n",
       "</div>"
      ],
      "text/plain": [
       "  id ad  education  ofjobs  yearsexp  honors  volunteer  military  empholes  \\\n",
       "0  b  1          4       2         6       0          0         0         1   \n",
       "1  b  1          3       3         6       0          1         1         0   \n",
       "2  b  1          4       1         6       0          0         0         0   \n",
       "3  b  1          3       4         6       0          1         0         1   \n",
       "4  b  1          3       3        22       0          0         0         0   \n",
       "\n",
       "   occupspecific    ...      compreq  orgreq  manuf  transcom  bankreal trade  \\\n",
       "0             17    ...          1.0     0.0    1.0       0.0       0.0   0.0   \n",
       "1            316    ...          1.0     0.0    1.0       0.0       0.0   0.0   \n",
       "2             19    ...          1.0     0.0    1.0       0.0       0.0   0.0   \n",
       "3            313    ...          1.0     0.0    1.0       0.0       0.0   0.0   \n",
       "4            313    ...          1.0     1.0    0.0       0.0       0.0   0.0   \n",
       "\n",
       "  busservice othservice  missind  ownership  \n",
       "0        0.0        0.0      0.0             \n",
       "1        0.0        0.0      0.0             \n",
       "2        0.0        0.0      0.0             \n",
       "3        0.0        0.0      0.0             \n",
       "4        0.0        1.0      0.0  Nonprofit  \n",
       "\n",
       "[5 rows x 65 columns]"
      ]
     },
     "execution_count": 3,
     "metadata": {},
     "output_type": "execute_result"
    }
   ],
   "source": [
    "data.head()"
   ]
  },
  {
   "cell_type": "code",
   "execution_count": 4,
   "metadata": {},
   "outputs": [
    {
     "name": "stdout",
     "output_type": "stream",
     "text": [
      "<class 'pandas.core.frame.DataFrame'>\n",
      "Int64Index: 4870 entries, 0 to 4869\n",
      "Data columns (total 65 columns):\n",
      "id                    4870 non-null object\n",
      "ad                    4870 non-null object\n",
      "education             4870 non-null int8\n",
      "ofjobs                4870 non-null int8\n",
      "yearsexp              4870 non-null int8\n",
      "honors                4870 non-null int8\n",
      "volunteer             4870 non-null int8\n",
      "military              4870 non-null int8\n",
      "empholes              4870 non-null int8\n",
      "occupspecific         4870 non-null int16\n",
      "occupbroad            4870 non-null int8\n",
      "workinschool          4870 non-null int8\n",
      "email                 4870 non-null int8\n",
      "computerskills        4870 non-null int8\n",
      "specialskills         4870 non-null int8\n",
      "firstname             4870 non-null object\n",
      "sex                   4870 non-null object\n",
      "race                  4870 non-null object\n",
      "h                     4870 non-null float32\n",
      "l                     4870 non-null float32\n",
      "call                  4870 non-null float32\n",
      "city                  4870 non-null object\n",
      "kind                  4870 non-null object\n",
      "adid                  4870 non-null float32\n",
      "fracblack             4784 non-null float32\n",
      "fracwhite             4784 non-null float32\n",
      "lmedhhinc             4784 non-null float32\n",
      "fracdropout           4784 non-null float32\n",
      "fraccolp              4784 non-null float32\n",
      "linc                  4784 non-null float32\n",
      "col                   4870 non-null float32\n",
      "expminreq             4870 non-null object\n",
      "schoolreq             4870 non-null object\n",
      "eoe                   4870 non-null float32\n",
      "parent_sales          1672 non-null float32\n",
      "parent_emp            1722 non-null float32\n",
      "branch_sales          608 non-null float32\n",
      "branch_emp            658 non-null float32\n",
      "fed                   3102 non-null float32\n",
      "fracblack_empzip      1918 non-null float32\n",
      "fracwhite_empzip      1918 non-null float32\n",
      "lmedhhinc_empzip      1908 non-null float32\n",
      "fracdropout_empzip    1918 non-null float32\n",
      "fraccolp_empzip       1918 non-null float32\n",
      "linc_empzip           1918 non-null float32\n",
      "manager               4870 non-null float32\n",
      "supervisor            4870 non-null float32\n",
      "secretary             4870 non-null float32\n",
      "offsupport            4870 non-null float32\n",
      "salesrep              4870 non-null float32\n",
      "retailsales           4870 non-null float32\n",
      "req                   4870 non-null float32\n",
      "expreq                4870 non-null float32\n",
      "comreq                4870 non-null float32\n",
      "educreq               4870 non-null float32\n",
      "compreq               4870 non-null float32\n",
      "orgreq                4870 non-null float32\n",
      "manuf                 4870 non-null float32\n",
      "transcom              4870 non-null float32\n",
      "bankreal              4870 non-null float32\n",
      "trade                 4870 non-null float32\n",
      "busservice            4870 non-null float32\n",
      "othservice            4870 non-null float32\n",
      "missind               4870 non-null float32\n",
      "ownership             4870 non-null object\n",
      "dtypes: float32(42), int16(1), int8(12), object(10)\n",
      "memory usage: 1.3+ MB\n"
     ]
    }
   ],
   "source": [
    "data.info()"
   ]
  },
  {
   "cell_type": "code",
   "execution_count": 5,
   "metadata": {},
   "outputs": [
    {
     "name": "stdout",
     "output_type": "stream",
     "text": [
      "<class 'pandas.core.frame.DataFrame'>\n",
      "Int64Index: 4870 entries, 0 to 4869\n",
      "Data columns (total 2 columns):\n",
      "race    4870 non-null object\n",
      "call    4870 non-null float32\n",
      "dtypes: float32(1), object(1)\n",
      "memory usage: 95.1+ KB\n"
     ]
    }
   ],
   "source": [
    "# Reduce data columns to columns: race & call\n",
    "df = data[['race', 'call']]\n",
    "df.info()\n",
    "\n",
    "# Create Numpy arrays that contain values from call data as integers\n",
    "white = df[df.race=='w'].call.values.astype(int)\n",
    "black = df[df.race=='b'].call.values.astype(int)"
   ]
  },
  {
   "cell_type": "markdown",
   "metadata": {},
   "source": [
    "## 4. Write a story describing the statistical significance in the context or the original problem."
   ]
  },
  {
   "cell_type": "markdown",
   "metadata": {},
   "source": [
    "## 1. What test is appropriate for this problem?\n",
    "* Does CLT apply"
   ]
  },
  {
   "cell_type": "markdown",
   "metadata": {},
   "source": [
    "We'll be using an A/B testing approach comparing the mean call-back between two variables (white/black race association). Since we're comparing the means between two variables, both with large N, we'll use a two-sample z-test.\n",
    "\n",
    "CLT can apply\n",
    "* Population: People applying for jobs (with white/black-race associated catagories).\n",
    "* Sample: \n",
    "    * 4870 observations (less than 10% of total population)\n",
    "        * 2435 White catagories, 235 call-backs (1, True)\n",
    "        * 2435 Black catagories, 157 call-backs (1, True)\n",
    "    * Resumes (observations) were randomly generated, and submitted. Therefore, observations are independent of each other.\n",
    "    * The independent random variables tend toward a normal distribution.\n",
    "    \n",
    "\"Randomization Condition: The data must be sampled randomly.\n",
    "\n",
    "Independence Assumption: The sample values must be independent of each other. This means that the occurrence of one event has no influence on the next event. Usually, if we know that people or items were selected randomly we can assume that the independence assumption is met.\n",
    "\n",
    "Sample Size Assumption: The sample size must be sufficiently large. Although the Central Limit Theorem tells us that we can use a Normal model to think about the behavior of sample means when the sample size is large enough, it does not tell us how large that should be. If the population is very skewed, you will need a pretty large sample size to use the CLT, however if the population is unimodal and symmetric, even small samples are acceptable. So think about your sample size in terms of what you know about the population and decide whether the sample is large enough. In general a sample size of 30 is considered sufficient if the sample is unimodal (and meets the 10% condition).\""
   ]
  },
  {
   "cell_type": "code",
   "execution_count": 6,
   "metadata": {},
   "outputs": [
    {
     "name": "stdout",
     "output_type": "stream",
     "text": [
      "4870\n",
      "2435 2435\n",
      "157 total callbacks for black-sounding names\n",
      "235 total callbacks for white-sounding names\n"
     ]
    }
   ],
   "source": [
    "# number of observations, and length of each array\n",
    "print(len(df.call))\n",
    "print(len(white), len(black))\n",
    "\n",
    "# number of callbacks for black/white-sounding names\n",
    "print(sum(black), 'total callbacks for black-sounding names')\n",
    "print(sum(white), 'total callbacks for white-sounding names')"
   ]
  },
  {
   "cell_type": "code",
   "execution_count": 16,
   "metadata": {},
   "outputs": [
    {
     "data": {
      "image/png": "[encoded data removed]",
      "text/plain": [
       "<matplotlib.figure.Figure at 0x7f20a57b1438>"
      ]
     },
     "metadata": {},
     "output_type": "display_data"
    }
   ],
   "source": [
    "plt.figure()\n",
    "sns.countplot(x='call', hue='race', data=df, palette='RdBu')\n",
    "plt.xticks([0,1], ['No', 'Yes'])\n",
    "plt.show()"
   ]
  },
  {
   "cell_type": "code",
   "execution_count": 8,
   "metadata": {},
   "outputs": [],
   "source": [
    "# contingency_table = pd.crosstab(index=df.call, columns=df.race, margins=True)\n",
    "# contingency_table.columns = ['Black', 'White', 'Total']\n",
    "# contingency_table.index=['No','Yes','Total']\n",
    "# contingency_table"
   ]
  },
  {
   "cell_type": "code",
   "execution_count": 9,
   "metadata": {},
   "outputs": [
    {
     "name": "stdout",
     "output_type": "stream",
     "text": [
      "The mean call back rate for white sounding names is:  0.09650924024640657\n",
      "The mean call back rate for black sounding names is:  0.06447638603696099\n",
      "The difference between the two mean call back rates is:  0.032032854209445585\n"
     ]
    }
   ],
   "source": [
    "def diff_of_means(data_1, data_2):\n",
    "    \"\"\"Difference in means of two arrays\"\"\"\n",
    "    return abs(np.mean(data_1) - np.mean(data_2))\n",
    "\n",
    "black_mean = np.mean(black)\n",
    "white_mean = np.mean(white)\n",
    "print('The mean call back rate for white sounding names is: ', white_mean)\n",
    "print('The mean call back rate for black sounding names is: ', black_mean)\n",
    "\n",
    "mean_diff = diff_of_means(white, black)\n",
    "print('The difference between the two mean call back rates is: ', mean_diff)"
   ]
  },
  {
   "cell_type": "code",
   "execution_count": 10,
   "metadata": {},
   "outputs": [],
   "source": [
    "'''\n",
    "This function will allow us to take our data and increase the number of our observations.\n",
    "'''\n",
    "def draw_bs_reps(data, func, size=1):\n",
    "    \"\"\"Draw bootstrap replicates.\"\"\"\n",
    "\n",
    "    # Initialize array of replicates: bs_replicates\n",
    "    bs_replicates = np.empty(size)\n",
    "\n",
    "    # Generate replicates\n",
    "    for i in range(size): # Can this be done by list comprehension\n",
    "        bs_replicates[i] = func(np.random.choice(data, len(data)))\n",
    "\n",
    "    return bs_replicates"
   ]
  },
  {
   "cell_type": "markdown",
   "metadata": {},
   "source": [
    "**Graphing Probability Density Functions on white and black mean call-back rates**"
   ]
  },
  {
   "cell_type": "code",
   "execution_count": 11,
   "metadata": {},
   "outputs": [
    {
     "name": "stdout",
     "output_type": "stream",
     "text": [
      "The standard error of the mean (SEM) of: \n",
      "The original white call data is: 0.005984072178128067\n",
      "Our white bootstrapped data is: 0.0059525648899037865\n",
      "\n",
      "The SEM of the original black call data is: 0.004977121442811946\n",
      "and SEM of our black bootstrapped data is: 0.0049310409234728505\n"
     ]
    },
    {
     "data": {
      "image/png": "[encoded data removed]",
      "text/plain": [
       "<matplotlib.figure.Figure at 0x7f209d0fc630>"
      ]
     },
     "metadata": {},
     "output_type": "display_data"
    },
    {
     "name": "stdout",
     "output_type": "stream",
     "text": [
      "In the white PDF there is a 95% chance a data point would fall between [0.08501027 0.10841889]\n",
      "The difference between the 2.5%, 50%, 97.5% percentiles are:  [0.01144969] [0.01195893]\n",
      "In the black PDF there is a 95% chance a data point would fall between [0.0550308  0.07433265]\n",
      "The difference between the 2.5%, 50%, 97.5% percentiles are:  [0.00945659] [0.00984526]\n",
      "\n",
      "This shows that we have symmetry, normal distribution\n"
     ]
    }
   ],
   "source": [
    "# Take 100,000 bootstrap replicates of the mean: bs_replicates\n",
    "w_replicates = draw_bs_reps(white, np.mean, 10000)\n",
    "b_replicates = draw_bs_reps(black, np.mean, 10000)\n",
    "\n",
    "# Compute the standard error of mean\n",
    "w_sem = np.std(white) / np.sqrt(len(white))\n",
    "b_sem = np.std(black) / np.sqrt(len(black))\n",
    "\n",
    "# Compute standard deviation of bootstrap replicates\n",
    "w_std = np.std(w_replicates)\n",
    "b_std = np.std(b_replicates)\n",
    "\n",
    "print('The standard error of the mean (SEM) of: ')\n",
    "print('The original white call data is: ' + str(w_sem))\n",
    "print('Our white bootstrapped data is: ' + str(w_std))\n",
    "print('\\nThe SEM of the original black call data is: ' + str(b_sem))\n",
    "print('and SEM of our black bootstrapped data is: ' + str(b_std))\n",
    "\n",
    "# Make a histogram of the results\n",
    "_ = plt.hist(w_replicates, bins=50, normed=True, alpha=.3, label = 'White mean call back rate', color='blue')\n",
    "_ = plt.hist(b_replicates, bins=50, normed=True, alpha=.3, label = 'Black mean call back rate', color='red')\n",
    "plt.xlabel('Mean call back rate for black and white sounding names')\n",
    "plt.ylabel('PDF')\n",
    "plt.margins(.02)\n",
    "plt.legend(bbox_to_anchor=(1.05, 1), loc=2, borderaxespad=0.)\n",
    "\n",
    "# Show the plot\n",
    "plt.show()\n",
    "\n",
    "print('In the white PDF there is a 95% chance a data point would fall between', np.percentile(w_replicates, [2.5, 97.5]))\n",
    "print('The difference between the 2.5%, 50%, 97.5% percentiles are: ',\\\n",
    "     np.mean(w_replicates) - np.percentile(w_replicates, [2.5]),\\\n",
    "     np.percentile(w_replicates, [97.5]) - np.mean(w_replicates))\n",
    "print('In the black PDF there is a 95% chance a data point would fall between', np.percentile(b_replicates, [2.5, 97.5]))\n",
    "print('The difference between the 2.5%, 50%, 97.5% percentiles are: ',\\\n",
    "     np.mean(b_replicates) - np.percentile(b_replicates, [2.5]),\\\n",
    "     np.percentile(b_replicates, [97.5]) - np.mean(b_replicates))\n",
    "\n",
    "print('\\nThis shows that we have symmetry, normal distribution')"
   ]
  },
  {
   "cell_type": "markdown",
   "metadata": {},
   "source": [
    "**CLT applies due to the aformention reasons and distributions**"
   ]
  },
  {
   "cell_type": "markdown",
   "metadata": {},
   "source": [
    "## 2. What are the null and alternate hypothesis?"
   ]
  },
  {
   "cell_type": "markdown",
   "metadata": {},
   "source": [
    "$H_0$: The mean of black sounding names ($\\mu$) is the same as white sounding names ($\\mu_0$), $\\mu$ = $\\mu_0$. That black sounding names receive the same call-back rate as white sounding names $\\alpha$ = 0.05\n",
    "\n",
    "$H_A$: The call-back rate, mean, of the different sounding names is not the same. $\\mu\\neq\\mu_0$. Race/name association is a statistically probable factor in call-back rate."
   ]
  },
  {
   "cell_type": "markdown",
   "metadata": {},
   "source": [
    "### 3. Compute margin of error, confidence interval, and p-value. \n",
    "* Try using bootstrapping \n",
    "* and the frequentist statistical approaches."
   ]
  },
  {
   "cell_type": "markdown",
   "metadata": {},
   "source": [
    "Standard Error = Square root $\\Sigma$ standard deviation of variable squared divided by n of variable\n",
    "\n",
    "The z critical value for 95% confidence is 1.96, for 99% is 2.54."
   ]
  },
  {
   "cell_type": "markdown",
   "metadata": {},
   "source": [
    "Margin of Error:"
   ]
  },
  {
   "cell_type": "code",
   "execution_count": 12,
   "metadata": {},
   "outputs": [
    {
     "name": "stdout",
     "output_type": "stream",
     "text": [
      "0.0077833706\n",
      "0.0152554063\n"
     ]
    }
   ],
   "source": [
    "# Standard Error\n",
    "stan_err = np.sqrt((np.std(white)**2) / len(white) + (np.std(black)**2) / len(black))\n",
    "print(f'{stan_err:.10f}')\n",
    "\n",
    "moe = 1.96 * stan_err # Margin of Error\n",
    "print(f'{moe:.10f}')"
   ]
  },
  {
   "cell_type": "markdown",
   "metadata": {},
   "source": [
    "Confidence Interval"
   ]
  },
  {
   "cell_type": "code",
   "execution_count": 13,
   "metadata": {},
   "outputs": [
    {
     "name": "stdout",
     "output_type": "stream",
     "text": [
      "0.016777447859559147 0.047288260559332024\n",
      "[0.01677745 0.04728826]\n"
     ]
    }
   ],
   "source": [
    "print(mean_diff - moe, mean_diff + moe)\n",
    "print(mean_diff + np.array([-1,1]) * moe)"
   ]
  },
  {
   "cell_type": "markdown",
   "metadata": {},
   "source": [
    "To produce our z-test results, we'll use the following formula:\n",
    "![alt text](https://www.cliffsnotes.com/assets/267207.png \"Two sample formula\")"
   ]
  },
  {
   "cell_type": "code",
   "execution_count": 14,
   "metadata": {},
   "outputs": [
    {
     "name": "stdout",
     "output_type": "stream",
     "text": [
      "Z score:  4.11555\n",
      "P-value:  0.0000386\n"
     ]
    }
   ],
   "source": [
    "numerator = diff_of_means(white, black) #x1bar - x2bar - delta (0)\n",
    "z = numerator / stan_err # Standard Error == denominator\n",
    "pval = 2 * stats.norm.sf(abs(z))\n",
    "print('Z score: ', f'{z:.5f}')\n",
    "print('P-value: ', f'{pval:.7f}')"
   ]
  },
  {
   "cell_type": "code",
   "execution_count": 15,
   "metadata": {},
   "outputs": [
    {
     "name": "stdout",
     "output_type": "stream",
     "text": [
      "The probability, p-value: 0.0000386 that is shown by the red, result z-val line is:  4.1155504357\n",
      "The values we'd need for 95%, and 99% confidence are shown in orange and purple\n"
     ]
    },
    {
     "data": {
      "image/png": "[encoded data removed]",
      "text/plain": [
       "<matplotlib.figure.Figure at 0x7f209d0ba5c0>"
      ]
     },
     "metadata": {},
     "output_type": "display_data"
    }
   ],
   "source": [
    "plt.hist(np.random.standard_t(4734, size=100000), bins=100, normed=True)\n",
    "#plt.hist(np.random.standard_t(deg_free, size=100000), bins=100, normed=True)\n",
    "\n",
    "plt.axvline(1.98, linestyle='-', label='95% ', color='orange', alpha=.5)\n",
    "plt.axvline(2.62, linestyle='-', label='99% ', color='purple', alpha=.5)\n",
    "plt.axvline(z, linestyle='-', label='result z-val', color='red', alpha=.5)\n",
    "\n",
    "plt.xlabel('z-values')\n",
    "plt.ylabel('Probability')\n",
    "plt.margins(.02)\n",
    "plt.legend(bbox_to_anchor=(1.05, 1), loc=2, borderaxespad=0.)\n",
    "plt.plot()\n",
    "\n",
    "print('The probability, p-value:',f'{pval:.7f}', 'that is shown by the red, result z-val line is: ', f'{z:.10f}')\n",
    "print('The values we\\'d need for 95%, and 99% confidence are shown in orange and purple')"
   ]
  },
  {
   "cell_type": "markdown",
   "metadata": {},
   "source": [
    "<div class=\"span5 alert alert-success\">\n",
    "<p> Your answers to Q4 and Q5 here </p>\n",
    "</div>"
   ]
  },
  {
   "cell_type": "markdown",
   "metadata": {},
   "source": [
    "## 4. Write a story describing the statistical significance in the context or the original problem."
   ]
  },
  {
   "cell_type": "markdown",
   "metadata": {},
   "source": [
    "We're trying to predict if there is there is an association between name, race, and call-back success rates. The results demonstrate that there is a statistically significant difference in call-back success rate and name-race association. The mean difference between white and black race associated names was approx. 3.2%. The probability that our null hypothesis, call back rates being the same between white and black race-associated names, is less than 99.99%. These results are backed by a confidence level of over 99.99%.\n",
    "\n",
    "These results show there is a bias, or discrimination taking place in the job market/placement. This is happening prior to an interview being offered. Id est, \"Are Emily and Greg More Employable Than Lakisha and Jamal?\". Possible negative ramifications are that it may create an unequal representation in labor force, and or lawsuits. Positive, actionable results is that thesse findings may be used as a tool to create changes in how a human resource department is recruiting employees. For example, removing names from resumes until a call-back decision is formed. Or possibly, if resume parsing is automated, then changing how the algorithm is implemented."
   ]
  },
  {
   "cell_type": "markdown",
   "metadata": {},
   "source": [
    "## 5. Does your analysis mean that race/name is the most important factor in callback success? \n",
    "* Why or why not? \n",
    "    * If not, how would you amend your analysis?"
   ]
  },
  {
   "cell_type": "markdown",
   "metadata": {},
   "source": [
    "No, it does not mean that race-name association is the most important factor in call-back successs. The analysis\n",
    "demonstrates that race-name association -- _ceteris paribus_ -- has high statistical probability to affect call-back success.\n",
    "\n",
    "Our p-value allows us to say that the conclusion of race-name association is free from type 1 errors, that we're not falsely rejecting our null hypothesis.\n",
    "\n",
    "To amend the analysis, we'd want to look at how other factors affect call-back rates. Education, work experience, sex, computer and special skills, military, and volunteer are a some of the factors that should be looked at. After comparing their call-back rates the results may determine a different parameter to be larger factor in call-back rates.\n",
    "Another item would be to understand the nature of the sample. To address any possible type 2 errors. In other words, the sampling scheme.\n",
    "\n",
    "If, exluding race-name association, we can determine that there isn't any statistically probable difference in call-back rates between those parameters, we can determine that race-name association is a strong a factor in call-back rates."
   ]
  }
 ],
 "metadata": {
  "kernelspec": {
   "display_name": "Python 3",
   "language": "python",
   "name": "python3"
  },
  "language_info": {
   "codemirror_mode": {
    "name": "ipython",
    "version": 3
   },
   "file_extension": ".py",
   "mimetype": "text/x-python",
   "name": "python",
   "nbconvert_exporter": "python",
   "pygments_lexer": "ipython3",
   "version": "3.6.4"
  }
 },
 "nbformat": 4,
 "nbformat_minor": 1
}

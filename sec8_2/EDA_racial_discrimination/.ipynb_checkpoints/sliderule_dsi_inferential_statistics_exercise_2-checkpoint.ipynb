{
 "cells": [
  {
   "cell_type": "markdown",
   "metadata": {},
   "source": [
    "# Examining Racial Discrimination in the US Job Market\n",
    "\n",
    "### Background\n",
    "Racial discrimination continues to be pervasive in cultures throughout the world. Researchers examined the level of racial discrimination in the United States labor market by randomly assigning identical résumés to black-sounding or white-sounding names and observing the impact on requests for interviews from employers.\n",
    "\n",
    "### Data\n",
    "In the dataset provided, each row represents a resume. The 'race' column has two values, 'b' and 'w', indicating black-sounding and white-sounding. The column 'call' has two values, 1 and 0, indicating whether the resume received a call from employers or not.\n",
    "\n",
    "Note that the 'b' and 'w' values in race are assigned randomly to the resumes when presented to the employer."
   ]
  },
  {
   "cell_type": "markdown",
   "metadata": {},
   "source": [
    "### Exercises\n",
    "You will perform a statistical analysis to establish whether race has a significant impact on the rate of callbacks for resumes.\n",
    "\n",
    "Answer the following questions **in this notebook below and submit to your Github account**. \n",
    "\n",
    "   1. What test is appropriate for this problem? Does CLT apply?\n",
    "   2. What are the null and alternate hypotheses?\n",
    "   3. Compute margin of error, confidence interval, and p-value. Try using both the bootstrapping and the frequentist statistical approaches.\n",
    "   4. Write a story describing the statistical significance in the context or the original problem.\n",
    "   5. Does your analysis mean that race/name is the most important factor in callback success? Why or why not? If not, how would you amend your analysis?\n",
    "\n",
    "You can include written notes in notebook cells using Markdown: \n",
    "   - In the control panel at the top, choose Cell > Cell Type > Markdown\n",
    "   - Markdown syntax: http://nestacms.com/docs/creating-content/markdown-cheat-sheet\n",
    "\n",
    "\n",
    "#### Resources\n",
    "+ Experiment information and data source: http://www.povertyactionlab.org/evaluation/discrimination-job-market-united-states\n",
    "+ Scipy statistical methods: http://docs.scipy.org/doc/scipy/reference/stats.html \n",
    "+ Markdown syntax: http://nestacms.com/docs/creating-content/markdown-cheat-sheet\n",
    "+ Formulas for the Bernoulli distribution: https://en.wikipedia.org/wiki/Bernoulli_distribution\n",
    "</div>\n",
    "****"
   ]
  },
  {
   "cell_type": "code",
   "execution_count": 1,
   "metadata": {},
   "outputs": [],
   "source": [
    "import pandas as pd\n",
    "import numpy as np\n",
    "from scipy import stats\n",
    "\n",
    "import matplotlib.pyplot as plt\n",
    "import seaborn as sns"
   ]
  },
  {
   "cell_type": "code",
   "execution_count": 2,
   "metadata": {},
   "outputs": [],
   "source": [
    "data = pd.io.stata.read_stata('data/us_job_market_discrimination.dta')"
   ]
  },
  {
   "cell_type": "code",
   "execution_count": 3,
   "metadata": {},
   "outputs": [
    {
     "data": {
      "text/html": [
       "<div>\n",
       "<style scoped>\n",
       "    .dataframe tbody tr th:only-of-type {\n",
       "        vertical-align: middle;\n",
       "    }\n",
       "\n",
       "    .dataframe tbody tr th {\n",
       "        vertical-align: top;\n",
       "    }\n",
       "\n",
       "    .dataframe thead th {\n",
       "        text-align: right;\n",
       "    }\n",
       "</style>\n",
       "<table border=\"1\" class=\"dataframe\">\n",
       "  <thead>\n",
       "    <tr style=\"text-align: right;\">\n",
       "      <th></th>\n",
       "      <th>id</th>\n",
       "      <th>ad</th>\n",
       "      <th>education</th>\n",
       "      <th>ofjobs</th>\n",
       "      <th>yearsexp</th>\n",
       "      <th>honors</th>\n",
       "      <th>volunteer</th>\n",
       "      <th>military</th>\n",
       "      <th>empholes</th>\n",
       "      <th>occupspecific</th>\n",
       "      <th>...</th>\n",
       "      <th>compreq</th>\n",
       "      <th>orgreq</th>\n",
       "      <th>manuf</th>\n",
       "      <th>transcom</th>\n",
       "      <th>bankreal</th>\n",
       "      <th>trade</th>\n",
       "      <th>busservice</th>\n",
       "      <th>othservice</th>\n",
       "      <th>missind</th>\n",
       "      <th>ownership</th>\n",
       "    </tr>\n",
       "  </thead>\n",
       "  <tbody>\n",
       "    <tr>\n",
       "      <th>0</th>\n",
       "      <td>b</td>\n",
       "      <td>1</td>\n",
       "      <td>4</td>\n",
       "      <td>2</td>\n",
       "      <td>6</td>\n",
       "      <td>0</td>\n",
       "      <td>0</td>\n",
       "      <td>0</td>\n",
       "      <td>1</td>\n",
       "      <td>17</td>\n",
       "      <td>...</td>\n",
       "      <td>1.0</td>\n",
       "      <td>0.0</td>\n",
       "      <td>1.0</td>\n",
       "      <td>0.0</td>\n",
       "      <td>0.0</td>\n",
       "      <td>0.0</td>\n",
       "      <td>0.0</td>\n",
       "      <td>0.0</td>\n",
       "      <td>0.0</td>\n",
       "      <td></td>\n",
       "    </tr>\n",
       "    <tr>\n",
       "      <th>1</th>\n",
       "      <td>b</td>\n",
       "      <td>1</td>\n",
       "      <td>3</td>\n",
       "      <td>3</td>\n",
       "      <td>6</td>\n",
       "      <td>0</td>\n",
       "      <td>1</td>\n",
       "      <td>1</td>\n",
       "      <td>0</td>\n",
       "      <td>316</td>\n",
       "      <td>...</td>\n",
       "      <td>1.0</td>\n",
       "      <td>0.0</td>\n",
       "      <td>1.0</td>\n",
       "      <td>0.0</td>\n",
       "      <td>0.0</td>\n",
       "      <td>0.0</td>\n",
       "      <td>0.0</td>\n",
       "      <td>0.0</td>\n",
       "      <td>0.0</td>\n",
       "      <td></td>\n",
       "    </tr>\n",
       "    <tr>\n",
       "      <th>2</th>\n",
       "      <td>b</td>\n",
       "      <td>1</td>\n",
       "      <td>4</td>\n",
       "      <td>1</td>\n",
       "      <td>6</td>\n",
       "      <td>0</td>\n",
       "      <td>0</td>\n",
       "      <td>0</td>\n",
       "      <td>0</td>\n",
       "      <td>19</td>\n",
       "      <td>...</td>\n",
       "      <td>1.0</td>\n",
       "      <td>0.0</td>\n",
       "      <td>1.0</td>\n",
       "      <td>0.0</td>\n",
       "      <td>0.0</td>\n",
       "      <td>0.0</td>\n",
       "      <td>0.0</td>\n",
       "      <td>0.0</td>\n",
       "      <td>0.0</td>\n",
       "      <td></td>\n",
       "    </tr>\n",
       "    <tr>\n",
       "      <th>3</th>\n",
       "      <td>b</td>\n",
       "      <td>1</td>\n",
       "      <td>3</td>\n",
       "      <td>4</td>\n",
       "      <td>6</td>\n",
       "      <td>0</td>\n",
       "      <td>1</td>\n",
       "      <td>0</td>\n",
       "      <td>1</td>\n",
       "      <td>313</td>\n",
       "      <td>...</td>\n",
       "      <td>1.0</td>\n",
       "      <td>0.0</td>\n",
       "      <td>1.0</td>\n",
       "      <td>0.0</td>\n",
       "      <td>0.0</td>\n",
       "      <td>0.0</td>\n",
       "      <td>0.0</td>\n",
       "      <td>0.0</td>\n",
       "      <td>0.0</td>\n",
       "      <td></td>\n",
       "    </tr>\n",
       "    <tr>\n",
       "      <th>4</th>\n",
       "      <td>b</td>\n",
       "      <td>1</td>\n",
       "      <td>3</td>\n",
       "      <td>3</td>\n",
       "      <td>22</td>\n",
       "      <td>0</td>\n",
       "      <td>0</td>\n",
       "      <td>0</td>\n",
       "      <td>0</td>\n",
       "      <td>313</td>\n",
       "      <td>...</td>\n",
       "      <td>1.0</td>\n",
       "      <td>1.0</td>\n",
       "      <td>0.0</td>\n",
       "      <td>0.0</td>\n",
       "      <td>0.0</td>\n",
       "      <td>0.0</td>\n",
       "      <td>0.0</td>\n",
       "      <td>1.0</td>\n",
       "      <td>0.0</td>\n",
       "      <td>Nonprofit</td>\n",
       "    </tr>\n",
       "  </tbody>\n",
       "</table>\n",
       "<p>5 rows × 65 columns</p>\n",
       "</div>"
      ],
      "text/plain": [
       "  id ad  education  ofjobs  yearsexp  honors  volunteer  military  empholes  \\\n",
       "0  b  1          4       2         6       0          0         0         1   \n",
       "1  b  1          3       3         6       0          1         1         0   \n",
       "2  b  1          4       1         6       0          0         0         0   \n",
       "3  b  1          3       4         6       0          1         0         1   \n",
       "4  b  1          3       3        22       0          0         0         0   \n",
       "\n",
       "   occupspecific    ...      compreq  orgreq  manuf  transcom  bankreal trade  \\\n",
       "0             17    ...          1.0     0.0    1.0       0.0       0.0   0.0   \n",
       "1            316    ...          1.0     0.0    1.0       0.0       0.0   0.0   \n",
       "2             19    ...          1.0     0.0    1.0       0.0       0.0   0.0   \n",
       "3            313    ...          1.0     0.0    1.0       0.0       0.0   0.0   \n",
       "4            313    ...          1.0     1.0    0.0       0.0       0.0   0.0   \n",
       "\n",
       "  busservice othservice  missind  ownership  \n",
       "0        0.0        0.0      0.0             \n",
       "1        0.0        0.0      0.0             \n",
       "2        0.0        0.0      0.0             \n",
       "3        0.0        0.0      0.0             \n",
       "4        0.0        1.0      0.0  Nonprofit  \n",
       "\n",
       "[5 rows x 65 columns]"
      ]
     },
     "execution_count": 3,
     "metadata": {},
     "output_type": "execute_result"
    }
   ],
   "source": [
    "data.head()"
   ]
  },
  {
   "cell_type": "code",
   "execution_count": 4,
   "metadata": {},
   "outputs": [
    {
     "name": "stdout",
     "output_type": "stream",
     "text": [
      "<class 'pandas.core.frame.DataFrame'>\n",
      "Int64Index: 4870 entries, 0 to 4869\n",
      "Data columns (total 65 columns):\n",
      "id                    4870 non-null object\n",
      "ad                    4870 non-null object\n",
      "education             4870 non-null int8\n",
      "ofjobs                4870 non-null int8\n",
      "yearsexp              4870 non-null int8\n",
      "honors                4870 non-null int8\n",
      "volunteer             4870 non-null int8\n",
      "military              4870 non-null int8\n",
      "empholes              4870 non-null int8\n",
      "occupspecific         4870 non-null int16\n",
      "occupbroad            4870 non-null int8\n",
      "workinschool          4870 non-null int8\n",
      "email                 4870 non-null int8\n",
      "computerskills        4870 non-null int8\n",
      "specialskills         4870 non-null int8\n",
      "firstname             4870 non-null object\n",
      "sex                   4870 non-null object\n",
      "race                  4870 non-null object\n",
      "h                     4870 non-null float32\n",
      "l                     4870 non-null float32\n",
      "call                  4870 non-null float32\n",
      "city                  4870 non-null object\n",
      "kind                  4870 non-null object\n",
      "adid                  4870 non-null float32\n",
      "fracblack             4784 non-null float32\n",
      "fracwhite             4784 non-null float32\n",
      "lmedhhinc             4784 non-null float32\n",
      "fracdropout           4784 non-null float32\n",
      "fraccolp              4784 non-null float32\n",
      "linc                  4784 non-null float32\n",
      "col                   4870 non-null float32\n",
      "expminreq             4870 non-null object\n",
      "schoolreq             4870 non-null object\n",
      "eoe                   4870 non-null float32\n",
      "parent_sales          1672 non-null float32\n",
      "parent_emp            1722 non-null float32\n",
      "branch_sales          608 non-null float32\n",
      "branch_emp            658 non-null float32\n",
      "fed                   3102 non-null float32\n",
      "fracblack_empzip      1918 non-null float32\n",
      "fracwhite_empzip      1918 non-null float32\n",
      "lmedhhinc_empzip      1908 non-null float32\n",
      "fracdropout_empzip    1918 non-null float32\n",
      "fraccolp_empzip       1918 non-null float32\n",
      "linc_empzip           1918 non-null float32\n",
      "manager               4870 non-null float32\n",
      "supervisor            4870 non-null float32\n",
      "secretary             4870 non-null float32\n",
      "offsupport            4870 non-null float32\n",
      "salesrep              4870 non-null float32\n",
      "retailsales           4870 non-null float32\n",
      "req                   4870 non-null float32\n",
      "expreq                4870 non-null float32\n",
      "comreq                4870 non-null float32\n",
      "educreq               4870 non-null float32\n",
      "compreq               4870 non-null float32\n",
      "orgreq                4870 non-null float32\n",
      "manuf                 4870 non-null float32\n",
      "transcom              4870 non-null float32\n",
      "bankreal              4870 non-null float32\n",
      "trade                 4870 non-null float32\n",
      "busservice            4870 non-null float32\n",
      "othservice            4870 non-null float32\n",
      "missind               4870 non-null float32\n",
      "ownership             4870 non-null object\n",
      "dtypes: float32(42), int16(1), int8(12), object(10)\n",
      "memory usage: 1.3+ MB\n"
     ]
    }
   ],
   "source": [
    "data.info()"
   ]
  },
  {
   "cell_type": "code",
   "execution_count": 93,
   "metadata": {},
   "outputs": [
    {
     "name": "stdout",
     "output_type": "stream",
     "text": [
      "<class 'pandas.core.frame.DataFrame'>\n",
      "Int64Index: 4870 entries, 0 to 4869\n",
      "Data columns (total 2 columns):\n",
      "race    4870 non-null object\n",
      "call    4870 non-null float32\n",
      "dtypes: float32(1), object(1)\n",
      "memory usage: 255.1+ KB\n"
     ]
    }
   ],
   "source": [
    "# reduce data set to columns race, call\n",
    "df = data[['race', 'call']]\n",
    "df.info()\n",
    "\n",
    "# create an array that contains only values from call data and converts to int for boolean uses\n",
    "white = df[df.race=='w'].call.values.astype(int)\n",
    "black = df[df.race=='b'].call.values.astype(int)"
   ]
  },
  {
   "cell_type": "code",
   "execution_count": 96,
   "metadata": {},
   "outputs": [
    {
     "data": {
      "text/plain": [
       "235"
      ]
     },
     "execution_count": 96,
     "metadata": {},
     "output_type": "execute_result"
    }
   ],
   "source": []
  },
  {
   "cell_type": "markdown",
   "metadata": {},
   "source": [
    "## 3. Compute margin of error, confidence interval, and p-value. Try using both the bootstrapping and the frequentist statistical approaches.\n",
    "## 4. Write a story describing the statistical significance in the context or the original problem.\n",
    "## 5. Does your analysis mean that race/name is the most important factor in callback success? \n",
    "* Why or why not? \n",
    "    * If not, how would you amend your analysis?"
   ]
  },
  {
   "cell_type": "markdown",
   "metadata": {},
   "source": [
    "## 1. What test is appropriate for this problem?\n",
    "* Does CLT apply"
   ]
  },
  {
   "cell_type": "code",
   "execution_count": 97,
   "metadata": {},
   "outputs": [
    {
     "name": "stdout",
     "output_type": "stream",
     "text": [
      "157 total callbacks for black-sounding names\n",
      "235 total callbacks for white-sounding names\n"
     ]
    }
   ],
   "source": [
    "# number of callbacks for black-sounding names\n",
    "print(sum(black), 'total callbacks for black-sounding names')\n",
    "\n",
    "# number of callbacks for white-sounding names\n",
    "print(sum(white), 'total callbacks for white-sounding names')"
   ]
  },
  {
   "cell_type": "code",
   "execution_count": 98,
   "metadata": {},
   "outputs": [
    {
     "name": "stdout",
     "output_type": "stream",
     "text": [
      "The mean call back rate for white sounding names is:  0.09650924024640657\n",
      "The mean call back rate for black sounding names is:  0.06447638603696099\n",
      "The difference between the two mean call back rates is:  0.032032854209445585\n"
     ]
    }
   ],
   "source": [
    "def diff_of_means(data_1, data_2):\n",
    "    \"\"\"Difference in means of two arrays\"\"\"\n",
    "    return abs(np.mean(data_1) - np.mean(data_2))\n",
    "\n",
    "black_mean = np.mean(black)\n",
    "white_mean = np.mean(white)\n",
    "print('The mean call back rate for white sounding names is: ', white_mean)\n",
    "print('The mean call back rate for black sounding names is: ', black_mean)\n",
    "\n",
    "emp_mean_diff = diff_of_means(white, black)\n",
    "print('The difference between the two mean call back rates is: ', emp_mean_diff)"
   ]
  },
  {
   "cell_type": "code",
   "execution_count": 9,
   "metadata": {},
   "outputs": [],
   "source": [
    "# This function will allow us to take our data and increase the number of our observations.\n",
    "\n",
    "def draw_bs_reps(data, func, size=1):\n",
    "    \"\"\"Draw bootstrap replicates.\"\"\"\n",
    "\n",
    "    # Initialize array of replicates: bs_replicates\n",
    "    bs_replicates = np.empty(size)\n",
    "\n",
    "    # Generate replicates\n",
    "    for i in range(size):\n",
    "        bs_replicates[i] = func(np.random.choice(data, len(data)))\n",
    "\n",
    "    return bs_replicates"
   ]
  },
  {
   "cell_type": "code",
   "execution_count": 33,
   "metadata": {},
   "outputs": [
    {
     "name": "stdout",
     "output_type": "stream",
     "text": [
      "The standard error of the mean of the original white call data is: 0.0059840016981803105\n",
      "The standard error of the mean of our white bootstrapped data is: 0.0059429304860436\n",
      "\n",
      "The standard error of the mean of the original black call data is: 0.004977108869798699\n",
      "The standard error of the mean of our black bootstrapped data is: 0.004979503092818393\n"
     ]
    },
    {
     "data": {
      "image/png": "[encoded data removed]",
      "text/plain": [
       "<matplotlib.figure.Figure at 0x7f9d916ea278>"
      ]
     },
     "metadata": {},
     "output_type": "display_data"
    },
    {
     "name": "stdout",
     "output_type": "stream",
     "text": [
      "There is a 95% chance a data point would fall between [0.08501027 0.10841889]\n",
      "The difference between the 2.5%, 50%, 97.5% percentiles are:  [0.0114331] [0.01197552]\n",
      "There is a 95% chance a data point would fall between [0.05462012 0.07433265]\n",
      "The difference between the 2.5%, 50%, 97.5% percentiles are:  [0.00983659] [0.00987593]\n",
      "\n",
      "This shows that we have symmetry, normal distribution\n"
     ]
    }
   ],
   "source": [
    "# Take 100,000 bootstrap replicates of the mean: bs_replicates\n",
    "w_replicates = draw_bs_reps(w.call, np.mean, 10000)\n",
    "b_replicates = draw_bs_reps(b.call, np.mean, 10000)\n",
    "\n",
    "# Compute the standard error of mean\n",
    "w_sem = np.std(w.call) / np.sqrt(len(w.call))\n",
    "b_sem = np.std(b.call) / np.sqrt(len(b.call))\n",
    "\n",
    "# Compute standard deviation of bootstrap replicates\n",
    "w_std = np.std(w_replicates)\n",
    "b_std = np.std(b_replicates)\n",
    "\n",
    "print('The standard error of the mean of the original white call data is: ' + str(w_sem))\n",
    "print('The standard error of the mean of our white bootstrapped data is: ' + str(w_std))\n",
    "print('\\nThe standard error of the mean of the original black call data is: ' + str(b_sem))\n",
    "print('The standard error of the mean of our black bootstrapped data is: ' + str(b_std))\n",
    "\n",
    "# Make a histogram of the results\n",
    "_ = plt.hist(w_replicates, bins=50, normed=True, alpha=.3, label = 'White mean call back rate', color='blue')\n",
    "_ = plt.hist(b_replicates, bins=50, normed=True, alpha=.3, label = 'Black mean call back rate', color='red')\n",
    "plt.xlabel('Mean call back rate for black and white sounding names')\n",
    "plt.ylabel('PDF')\n",
    "plt.margins(.02)\n",
    "plt.legend(bbox_to_anchor=(1.05, 1), loc=2, borderaxespad=0.)\n",
    "\n",
    "# Show the plot\n",
    "plt.show()\n",
    "\n",
    "print('There is a 95% chance a data point would fall between', np.percentile(w_replicates, [2.5, 97.5]))\n",
    "print('The difference between the 2.5%, 50%, 97.5% percentiles are: ',\\\n",
    "     np.mean(w_replicates) - np.percentile(w_replicates, [2.5]),\\\n",
    "     np.percentile(w_replicates, [97.5]) - np.mean(w_replicates))\n",
    "print('There is a 95% chance a data point would fall between', np.percentile(b_replicates, [2.5, 97.5]))\n",
    "print('The difference between the 2.5%, 50%, 97.5% percentiles are: ',\\\n",
    "     np.mean(b_replicates) - np.percentile(b_replicates, [2.5]),\\\n",
    "     np.percentile(b_replicates, [97.5]) - np.mean(b_replicates))\n",
    "\n",
    "print('\\nThis shows that we have symmetry, normal distribution')"
   ]
  },
  {
   "cell_type": "markdown",
   "metadata": {},
   "source": [
    "**CLT _(does not)_ applies to this because of _(reason)_**"
   ]
  },
  {
   "cell_type": "markdown",
   "metadata": {},
   "source": [
    "## 2. What are the null and alternate hypothesis?"
   ]
  },
  {
   "cell_type": "markdown",
   "metadata": {},
   "source": [
    "$H_0$: The mean of black sounding names ($\\mu$) is the same as white sounding names ($\\mu_0$), $\\mu$ = $\\mu_0$. That black sounding names receive the same call-back rate as white sounding names $\\alpha$ = 0.05\n",
    "\n",
    "$H_A$: The call-back rate, mean, of the different sounding names is not the same. $\\mu\\neq\\mu_0$."
   ]
  },
  {
   "cell_type": "markdown",
   "metadata": {},
   "source": [
    "### 3. Compute margin of error, confidence interval, and p-value. \n",
    "* Try using bootstrapping \n",
    "* and the frequentist statistical approaches."
   ]
  },
  {
   "cell_type": "markdown",
   "metadata": {},
   "source": [
    "Standard Error = Square root $\\Sigma$ standard deviation of variable sqaured divided by length of variable\n",
    "\n",
    "The critical value for 95% confidence is 1.96, for 99% is 2.54."
   ]
  },
  {
   "cell_type": "code",
   "execution_count": 52,
   "metadata": {},
   "outputs": [
    {
     "data": {
      "text/plain": [
       "0.24559901654720306"
      ]
     },
     "execution_count": 52,
     "metadata": {},
     "output_type": "execute_result"
    }
   ],
   "source": [
    "np.std(b.call)"
   ]
  },
  {
   "cell_type": "code",
   "execution_count": 58,
   "metadata": {},
   "outputs": [
    {
     "name": "stdout",
     "output_type": "stream",
     "text": [
      "0.01096111056797901\n",
      "0.02148377671323886\n"
     ]
    }
   ],
   "source": [
    "# compute standard error\n",
    "stan_err = np.std(w.call) / np.sqrt(len(w.call)) + np.std(b.call) / np.sqrt(len(b.call))\n",
    "print(stan_err)\n",
    "\n",
    "# calculate margin of error from standard error and critical value for 95% (alpha)\n",
    "moe = 1.96 * stan_err\n",
    "print(moe)"
   ]
  },
  {
   "cell_type": "code",
   "execution_count": 59,
   "metadata": {},
   "outputs": [
    {
     "name": "stdout",
     "output_type": "stream",
     "text": [
      "0.010549078141821717 0.05351663156829944\n"
     ]
    }
   ],
   "source": [
    "# calculate confidence interval\n",
    "print(emp_mean_diff - moe, emp_mean_diff + moe)"
   ]
  },
  {
   "cell_type": "code",
   "execution_count": 60,
   "metadata": {},
   "outputs": [
    {
     "name": "stdout",
     "output_type": "stream",
     "text": [
      "0.0077833084\n",
      "0.0152552844\n"
     ]
    }
   ],
   "source": [
    "stan_err = np.sqrt( (np.std(w.call)**2) / len(w.call)+ (np.std(b.call)**2) / len(b.call))\n",
    "print(f'{stan_err:.10f}')\n",
    "\n",
    "moe = 1.96 * stan_err\n",
    "print(f'{moe:.10f}')"
   ]
  },
  {
   "cell_type": "code",
   "execution_count": 61,
   "metadata": {},
   "outputs": [
    {
     "name": "stdout",
     "output_type": "stream",
     "text": [
      "0.016777570469610682 0.04728813924051047\n"
     ]
    }
   ],
   "source": [
    "# calculate confidence interval\n",
    "print(emp_mean_diff - moe, emp_mean_diff + moe)"
   ]
  },
  {
   "cell_type": "code",
   "execution_count": null,
   "metadata": {},
   "outputs": [],
   "source": [
    "print(w.count(0))"
   ]
  },
  {
   "cell_type": "code",
   "execution_count": null,
   "metadata": {},
   "outputs": [],
   "source": [
    "print(type(w.call[0]))"
   ]
  },
  {
   "cell_type": "code",
   "execution_count": null,
   "metadata": {},
   "outputs": [],
   "source": [
    "print(np.mean(w.call)*100)\n",
    "print(np.mean(b.call)*100)"
   ]
  },
  {
   "cell_type": "markdown",
   "metadata": {},
   "source": [
    "**Our first testing approach will be to use a shifted mean bootstrapped approach**"
   ]
  },
  {
   "cell_type": "code",
   "execution_count": null,
   "metadata": {},
   "outputs": [],
   "source": [
    "# Compute samples of difference of means: bs_diff_replicates\n",
    "bs_diff_replicates = diff_of_means(w_replicates, b_replicates)\n",
    "\n",
    "# Compute 95% confidence interval: conf_int\n",
    "conf_int = np.percentile(bs_diff_replicates,[2.5,97.5])\n",
    "\n",
    "# Print the results\n",
    "print('difference of means =', bs_diff_replicates)\n",
    "print('95% confidence interval =', conf_int)"
   ]
  },
  {
   "cell_type": "code",
   "execution_count": null,
   "metadata": {},
   "outputs": [],
   "source": [
    "# Compute mean of combined data set: combined_mean\n",
    "combined_mean = np.mean(df.call)\n",
    "\n",
    "# Shift the samples\n",
    "bs_w_shifted = w.call - np.mean(w.call) + combined_mean\n",
    "bs_b_shifted = b.call - np.mean(b.call) + combined_mean\n",
    "\n",
    "# Get bootstrap replicates of shifted data sets\n",
    "bs_replicates_w = draw_bs_reps(bs_w_shifted, np.mean, 10000)\n",
    "bs_replicates_b = draw_bs_reps(bs_b_shifted, np.mean, 10000)\n",
    "\n",
    "# Compute replicates of difference of means: bs_diff_replicates\n",
    "bs_diff_replicates = bs_replicates_b - bs_replicates_w\n",
    "\n",
    "# Compute the p-value\n",
    "p = np.sum(bs_diff_replicates >= emp_mean_diff) / len(bs_diff_replicates)\n",
    "\n",
    "# Print p-value\n",
    "print('p =', p)\n"
   ]
  },
  {
   "cell_type": "code",
   "execution_count": null,
   "metadata": {},
   "outputs": [],
   "source": [
    "print('Our p-value, ', p, ' needs to be equal or greater than our alpha, 0.05.')\n",
    "if p < 0.05 : \n",
    "    print('Assuming the means are equal, this result could be observed in approximately', f'{p:.4f}', '% of samples')\n",
    "    print('Our null hypothesis is probabalistically false')\n",
    "else : print('Our null hypothesis is probabalistically true')"
   ]
  },
  {
   "cell_type": "markdown",
   "metadata": {},
   "source": [
    "**Our next example will be using a permutation test**"
   ]
  },
  {
   "cell_type": "code",
   "execution_count": 27,
   "metadata": {},
   "outputs": [],
   "source": [
    "def permutation_sample(data1, data2):\n",
    "    \"\"\"Generate a permutation sample from two data sets.\"\"\"\n",
    "\n",
    "    # Concatenate the data sets: data\n",
    "    data = np.concatenate((data1,data2))\n",
    "\n",
    "    # Permute the concatenated array: permuted_data\n",
    "    permuted_data = np.random.permutation(data)\n",
    "\n",
    "    # Split the permuted array into two: perm_sample_1, perm_sample_2\n",
    "    perm_sample_1 = permuted_data[:len(data1)]\n",
    "    perm_sample_2 = permuted_data[len(data1):]\n",
    "\n",
    "    return perm_sample_1, perm_sample_2"
   ]
  },
  {
   "cell_type": "code",
   "execution_count": 30,
   "metadata": {},
   "outputs": [],
   "source": [
    "def draw_perm_reps(data_1, data_2, func, size=1):\n",
    "    \"\"\"Generate multiple permutation replicates.\"\"\"\n",
    "\n",
    "    # Initialize array of replicates: perm_replicates\n",
    "    perm_replicates = np.empty(size)\n",
    "\n",
    "    for i in range(size):\n",
    "        # Generate permutation sample\n",
    "        perm_sample_1, perm_sample_2 = permutation_sample(data_1, data_2)\n",
    "\n",
    "        # Compute the test statistic\n",
    "        perm_replicates[i] = func(perm_sample_1,perm_sample_2)\n",
    "\n",
    "    return perm_replicates"
   ]
  },
  {
   "cell_type": "code",
   "execution_count": 32,
   "metadata": {},
   "outputs": [
    {
     "name": "stdout",
     "output_type": "stream",
     "text": [
      "p-value = 1.0\n"
     ]
    }
   ],
   "source": [
    "# Construct arrays of data: white, black\n",
    "white = np.array([True] * 235 + [False] * 4635)\n",
    "black = np.array([True] * 157 + [False] * 4713)\n",
    "\n",
    "def frac_yay_dems(black, white):\n",
    "    \"\"\"Compute fraction of black call-backs.\"\"\"\n",
    "    frac = np.sum(black) / len(black)\n",
    "    return frac\n",
    "\n",
    "# Acquire permutation samples: perm_replicates\n",
    "perm_replicates = draw_perm_reps(white, black, frac_yay_dems, 10000)\n",
    "\n",
    "# Compute and print p-value: p\n",
    "p = np.sum(perm_replicates <= 153/244) / len(perm_replicates)\n",
    "print('p-value =', p)"
   ]
  },
  {
   "cell_type": "code",
   "execution_count": null,
   "metadata": {},
   "outputs": [],
   "source": []
  },
  {
   "cell_type": "code",
   "execution_count": null,
   "metadata": {},
   "outputs": [],
   "source": [
    "n_w = len(w)\n",
    "n_b = len(b)\n",
    "\n",
    "prop_w = np.sum(w.call) / len(w)\n",
    "prop_b = np.sum(b.call) / len(b)\n",
    "\n",
    "prop_diff = prop_w - prop_b\n",
    "phat = (np.sum(w.call) + np.sum(b.call)) / (len(w) + len(b))\n",
    "\n",
    "z = prop_diff / np.sqrt(phat * (1 - phat) * ((1 / n_w) + (1 / n_b)))\n",
    "pval = stats.norm.cdf(-z) * 2\n",
    "print(\"Z score: {}\".format(z))\n",
    "print(\"P-value: {}\".format(pval))\n",
    "\n",
    "moe = 1.96 * np.sqrt(phat * (1 - phat) * ((1 / n_w) + (1 / n_b)))\n",
    "ci = prop_diff + np.array([-1, 1]) * moe\n",
    "print(\"Margin of Error: {}\".format(moe))\n",
    "print(\"Confidence interval: {}\".format(ci)) \n",
    "\n",
    "#From https://dscareercommunity.springboard.com/t/80k54y/eda-mini-projects"
   ]
  },
  {
   "cell_type": "code",
   "execution_count": null,
   "metadata": {},
   "outputs": [],
   "source": [
    "def t_test(sample, mu):\n",
    "    mean = np.mean(sample)\n",
    "    var = np.var(sample, ddof = 1) ###\n",
    "    sem = (var / len(sample)) ** .5\n",
    "    t = abs(mu - mean)/sem\n",
    "    df = len(sample) - 1\n",
    "    p = 2*(1-scs.t.cdf(t, df)) ###\n",
    "    return (t, p)\n",
    "\n",
    "# https://stats.stackexchange.com/questions/271258/using-scipy-t-ppf-to-get-p-value\n",
    "# ttest_1samp https://docs.scipy.org/doc/scipy/reference/generated/scipy.stats.ttest_1samp.html"
   ]
  },
  {
   "cell_type": "code",
   "execution_count": null,
   "metadata": {},
   "outputs": [],
   "source": []
  },
  {
   "cell_type": "code",
   "execution_count": null,
   "metadata": {},
   "outputs": [],
   "source": [
    "# Your solution to Q3 here"
   ]
  },
  {
   "cell_type": "markdown",
   "metadata": {},
   "source": [
    "<div class=\"span5 alert alert-success\">\n",
    "<p> Your answers to Q4 and Q5 here </p>\n",
    "</div>"
   ]
  },
  {
   "cell_type": "code",
   "execution_count": null,
   "metadata": {},
   "outputs": [],
   "source": []
  }
 ],
 "metadata": {
  "kernelspec": {
   "display_name": "Python 3",
   "language": "python",
   "name": "python3"
  },
  "language_info": {
   "codemirror_mode": {
    "name": "ipython",
    "version": 3
   },
   "file_extension": ".py",
   "mimetype": "text/x-python",
   "name": "python",
   "nbconvert_exporter": "python",
   "pygments_lexer": "ipython3",
   "version": "3.6.4"
  }
 },
 "nbformat": 4,
 "nbformat_minor": 1
}

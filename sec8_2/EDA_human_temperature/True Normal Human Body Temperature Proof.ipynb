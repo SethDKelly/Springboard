{
 "cells": [
  {
   "cell_type": "code",
   "execution_count": 1,
   "metadata": {},
   "outputs": [],
   "source": [
    "import pandas as pd\n",
    "import matplotlib.pyplot as plt\n",
    "import seaborn as sns\n",
    "import numpy as np\n",
    "import math\n",
    "import scipy.stats as stats\n",
    "\n",
    "df = pd.read_csv('data/human_body_temperature.csv')"
   ]
  },
  {
   "cell_type": "markdown",
   "metadata": {},
   "source": [
    "## Prior to working through the questions, EDA of the data sample"
   ]
  },
  {
   "cell_type": "code",
   "execution_count": 2,
   "metadata": {},
   "outputs": [
    {
     "name": "stdout",
     "output_type": "stream",
     "text": [
      "<class 'pandas.core.frame.DataFrame'>\n",
      "RangeIndex: 130 entries, 0 to 129\n",
      "Data columns (total 3 columns):\n",
      "temperature    130 non-null float64\n",
      "gender         130 non-null object\n",
      "heart_rate     130 non-null float64\n",
      "dtypes: float64(2), object(1)\n",
      "memory usage: 3.1+ KB\n",
      "M    65\n",
      "F    65\n",
      "Name: gender, dtype: int64\n",
      "   temperature gender  heart_rate\n",
      "0         99.3      F        68.0\n",
      "1         98.4      F        81.0\n",
      "2         97.8      M        73.0\n",
      "3         99.2      F        66.0\n",
      "4         98.0      F        73.0\n"
     ]
    }
   ],
   "source": [
    "df.info()\n",
    "print(df.gender.value_counts())\n",
    "print(df.head())"
   ]
  },
  {
   "cell_type": "code",
   "execution_count": 3,
   "metadata": {},
   "outputs": [
    {
     "data": {
      "text/html": [
       "<div>\n",
       "<style scoped>\n",
       "    .dataframe tbody tr th:only-of-type {\n",
       "        vertical-align: middle;\n",
       "    }\n",
       "\n",
       "    .dataframe tbody tr th {\n",
       "        vertical-align: top;\n",
       "    }\n",
       "\n",
       "    .dataframe thead th {\n",
       "        text-align: right;\n",
       "    }\n",
       "</style>\n",
       "<table border=\"1\" class=\"dataframe\">\n",
       "  <thead>\n",
       "    <tr style=\"text-align: right;\">\n",
       "      <th></th>\n",
       "      <th>temperature</th>\n",
       "      <th>heart_rate</th>\n",
       "    </tr>\n",
       "  </thead>\n",
       "  <tbody>\n",
       "    <tr>\n",
       "      <th>count</th>\n",
       "      <td>130.000000</td>\n",
       "      <td>130.000000</td>\n",
       "    </tr>\n",
       "    <tr>\n",
       "      <th>mean</th>\n",
       "      <td>98.249231</td>\n",
       "      <td>73.761538</td>\n",
       "    </tr>\n",
       "    <tr>\n",
       "      <th>std</th>\n",
       "      <td>0.733183</td>\n",
       "      <td>7.062077</td>\n",
       "    </tr>\n",
       "    <tr>\n",
       "      <th>min</th>\n",
       "      <td>96.300000</td>\n",
       "      <td>57.000000</td>\n",
       "    </tr>\n",
       "    <tr>\n",
       "      <th>25%</th>\n",
       "      <td>97.800000</td>\n",
       "      <td>69.000000</td>\n",
       "    </tr>\n",
       "    <tr>\n",
       "      <th>50%</th>\n",
       "      <td>98.300000</td>\n",
       "      <td>74.000000</td>\n",
       "    </tr>\n",
       "    <tr>\n",
       "      <th>75%</th>\n",
       "      <td>98.700000</td>\n",
       "      <td>79.000000</td>\n",
       "    </tr>\n",
       "    <tr>\n",
       "      <th>max</th>\n",
       "      <td>100.800000</td>\n",
       "      <td>89.000000</td>\n",
       "    </tr>\n",
       "  </tbody>\n",
       "</table>\n",
       "</div>"
      ],
      "text/plain": [
       "       temperature  heart_rate\n",
       "count   130.000000  130.000000\n",
       "mean     98.249231   73.761538\n",
       "std       0.733183    7.062077\n",
       "min      96.300000   57.000000\n",
       "25%      97.800000   69.000000\n",
       "50%      98.300000   74.000000\n",
       "75%      98.700000   79.000000\n",
       "max     100.800000   89.000000"
      ]
     },
     "execution_count": 3,
     "metadata": {},
     "output_type": "execute_result"
    }
   ],
   "source": [
    "df.describe()"
   ]
  },
  {
   "cell_type": "code",
   "execution_count": 4,
   "metadata": {},
   "outputs": [
    {
     "name": "stdout",
     "output_type": "stream",
     "text": [
      "The difference in mean temperature and 98.6 degrees fahrenheit is: 0.35076923076921673\n"
     ]
    }
   ],
   "source": [
    "print('The difference in mean temperature and 98.6 degrees fahrenheit is: ' + str(98.6 - np.mean(df.temperature)))"
   ]
  },
  {
   "cell_type": "markdown",
   "metadata": {},
   "source": [
    "#### Looking at the distribution of Temperature and Heart Rate by histogram, swarm plot included to avoid binning bias"
   ]
  },
  {
   "cell_type": "code",
   "execution_count": 5,
   "metadata": {},
   "outputs": [
    {
     "data": {
      "image/png": "[encoded data removed]",
      "text/plain": [
       "<matplotlib.figure.Figure at 0x7f2c922c98d0>"
      ]
     },
     "metadata": {},
     "output_type": "display_data"
    }
   ],
   "source": [
    "# Histogram of human body temperature\n",
    "plt.subplot(1,2,1)\n",
    "plt.hist(df.temperature, bins = 100, normed=True, label='Data', color='blue')\n",
    "plt.axvline(np.mean(df.temperature), label = 'Mean', linestyle='-', color='red', alpha=.5)\n",
    "plt.legend(loc='upper right')\n",
    "plt.xlabel('Temperature (°F)')\n",
    "plt.ylabel('% of occurances')\n",
    "\n",
    "# Swarmplot of human body temperature\n",
    "plt.subplot(1,2,2)\n",
    "sns.swarmplot(y='temperature', data=df)\n",
    "plt.xlabel('Distribution of Temperature (°F)')\n",
    "plt.ylabel('Temperature (°F)')\n",
    "\n",
    "plt.suptitle('Measured human body temperature (°F)', fontsize=16)\n",
    "plt.tight_layout()\n",
    "plt.subplots_adjust(top=0.9)\n",
    "plt.margins(.02)\n",
    "plt.show()"
   ]
  },
  {
   "cell_type": "code",
   "execution_count": 6,
   "metadata": {},
   "outputs": [
    {
     "data": {
      "image/png": "[encoded data removed]",
      "text/plain": [
       "<matplotlib.figure.Figure at 0x7f2c922c9198>"
      ]
     },
     "metadata": {},
     "output_type": "display_data"
    }
   ],
   "source": [
    "# Histogram\n",
    "plt.subplot(1,2,1)\n",
    "plt.hist(df.heart_rate, bins = 100, normed=True, label='Data', color='blue')\n",
    "plt.axvline(np.mean(df.heart_rate), label = 'Mean', linestyle='-', color='red', alpha=.5)\n",
    "plt.legend(loc='upper right')\n",
    "plt.xlabel('Heart Rate')\n",
    "plt.ylabel('% of occurances')\n",
    "\n",
    "# Swarm plot\n",
    "plt.subplot(1,2,2)\n",
    "sns.swarmplot(y='heart_rate', data=df)\n",
    "plt.xlabel('Distribution of heart rates')\n",
    "plt.ylabel('Heart Rate')\n",
    "\n",
    "plt.suptitle('Measured human heart rate', fontsize=16)\n",
    "plt.tight_layout()\n",
    "plt.subplots_adjust(top=0.9)\n",
    "plt.margins(.02)\n",
    "plt.show()"
   ]
  },
  {
   "cell_type": "markdown",
   "metadata": {},
   "source": [
    "#### Computing the covariance matrix and pearson coefficient"
   ]
  },
  {
   "cell_type": "code",
   "execution_count": 7,
   "metadata": {},
   "outputs": [
    {
     "name": "stdout",
     "output_type": "stream",
     "text": [
      "[[49.87292785  1.31338104]\n",
      " [ 1.31338104  0.53755754]]\n",
      "1.3133810375670796\n"
     ]
    }
   ],
   "source": [
    "# Compute the covariance matrix: covariance_matrix\n",
    "covariance_matrix = np.cov(df.heart_rate, df.temperature)\n",
    "\n",
    "# Print covariance matrix\n",
    "print(covariance_matrix)\n",
    "\n",
    "# Extract covariance of heart rate and temperature of human body: hr_temp_cov\n",
    "hr_temp_cov = covariance_matrix[0,1]\n",
    "\n",
    "print(hr_temp_cov)"
   ]
  },
  {
   "cell_type": "code",
   "execution_count": 8,
   "metadata": {},
   "outputs": [],
   "source": [
    "def pearson_r(x, y):\n",
    "    \"\"\"Compute Pearson correlation coefficient between two arrays.\"\"\"\n",
    "    # Compute correlation matrix & return entry [0,1]\n",
    "    return np.corrcoef(x, y)[0,1]"
   ]
  },
  {
   "cell_type": "code",
   "execution_count": 9,
   "metadata": {},
   "outputs": [
    {
     "data": {
      "image/png": "[encoded data removed]",
      "text/plain": [
       "<matplotlib.figure.Figure at 0x7f2c89b9c828>"
      ]
     },
     "metadata": {},
     "output_type": "display_data"
    },
    {
     "name": "stdout",
     "output_type": "stream",
     "text": [
      "The Pearson coefficient is: 0.2536564027207642\n",
      "slope = 2.443238038611887 : Heart Rate / Temperature\n",
      "intercept = -166.2847194182036 : Not relevant\n"
     ]
    }
   ],
   "source": [
    "plt.plot(df.temperature, df.heart_rate, marker='.', label = 'H.R./Temp', linestyle='none')\n",
    "\n",
    "# Add mean lines for temperature and heart rate\n",
    "plt.axvline(np.mean(df.temperature), linestyle='-', label='Temp Mean', color='red', alpha=.5)\n",
    "plt.axhline(np.mean(df.heart_rate), linestyle='-', label='H.R. Mean', color='green', alpha=.5)\n",
    "\n",
    "# Perform a linear regression using np.polyfit(): a, b\n",
    "a, b = np.polyfit(df.temperature,df.heart_rate,1)\n",
    "\n",
    "# Make theoretical line to plot\n",
    "x = np.array([96,100.5])\n",
    "y = a * x + b\n",
    "\n",
    "# Add regression line to your plot\n",
    "plt.plot(x, y, label='Lin. Reg. line', alpha=.5)\n",
    "\n",
    "plt.xlabel('Temperature')\n",
    "plt.ylabel('Heart Rate')\n",
    "plt.margins(.02)\n",
    "plt.legend(bbox_to_anchor=(1.05, 1), loc=2, borderaxespad=0.)\n",
    "plt.show()\n",
    "\n",
    "print('The Pearson coefficient is: ' + str(pearson_r(df.heart_rate, df.temperature)))\n",
    "print('slope =', a, ': Heart Rate / Temperature')\n",
    "print('intercept =', b, ': Not relevant')"
   ]
  },
  {
   "cell_type": "code",
   "execution_count": 10,
   "metadata": {},
   "outputs": [
    {
     "name": "stdout",
     "output_type": "stream",
     "text": [
      "p-val = 0.00175\n"
     ]
    }
   ],
   "source": [
    "# Compute observed correlation: r_obs\n",
    "r_obs = pearson_r(df.heart_rate, df.temperature)\n",
    "\n",
    "# Initialize permutation replicates: perm_replicates\n",
    "perm_replicates = np.empty(100000)\n",
    "\n",
    "# Draw replicates\n",
    "for i in range(100000):\n",
    "    # Permute heart rate measurments: hr_permuted\n",
    "    hr_permuted = np.random.permutation(df.heart_rate)\n",
    "\n",
    "    # Compute Pearson correlation\n",
    "    perm_replicates[i] = pearson_r(hr_permuted, df.temperature)\n",
    "\n",
    "# Compute p-value: p\n",
    "p = np.sum(perm_replicates >= r_obs) / len(perm_replicates)\n",
    "print('p-val =', p)"
   ]
  },
  {
   "cell_type": "markdown",
   "metadata": {},
   "source": [
    "The low p-value that we're showing here demonstrates that it's not just chance that heart rate and temperature have a low pearson coefficient"
   ]
  },
  {
   "cell_type": "markdown",
   "metadata": {},
   "source": [
    "*Looking at the scatter plot shows that the collected data of temperature and heart rate don't have a linear relationship. The Pearson coefficient confirms this by being an statistically insignificant positive .254. This implies that heart rate and temperature are independant variables*\n",
    "\n",
    "*\"Note that the Pearson correlation reflects the non-linearity and direction of a linear relationship\". [1]*\n",
    "[1]: https://en.wikipedia.org/wiki/Pearson_correlation_coefficient"
   ]
  },
  {
   "cell_type": "markdown",
   "metadata": {},
   "source": [
    "### 1. Is the distribution of body temperatures normal? "
   ]
  },
  {
   "cell_type": "markdown",
   "metadata": {},
   "source": [
    "We've already look at the distribution of the Human body temperature data as a histogram. To help determine if the data is normally distributed we'll also graph the Cumulative Distribution Function (CDF)."
   ]
  },
  {
   "cell_type": "code",
   "execution_count": 11,
   "metadata": {},
   "outputs": [],
   "source": [
    "'''Function call to compute the Empirical Cumulative Distribution Function (ECDF)'''\n",
    "def ecdf(data):\n",
    "    \"\"\"Compute ECDF for a one-dimensional array of measurements.\"\"\"\n",
    "    #Returns a coordinate set of the data: x, y\n",
    "    return np.sort(data), np.arange(1, len(data) + 1) / len(data)"
   ]
  },
  {
   "cell_type": "code",
   "execution_count": 12,
   "metadata": {},
   "outputs": [
    {
     "data": {
      "image/png": "[encoded data removed]",
      "text/plain": [
       "<matplotlib.figure.Figure at 0x7f2c889d4160>"
      ]
     },
     "metadata": {},
     "output_type": "display_data"
    }
   ],
   "source": [
    "# calculating the cdf from the empirical data set\n",
    "x_temp, y_temp = ecdf(df.temperature)\n",
    "plt.plot(x_temp, y_temp, marker='.', linestyle='none')\n",
    "\n",
    "# calculating a theoretical normal distribution from the mean and std. dev. of the empirical temperature data\n",
    "theo_dist = np.random.normal(np.mean(df.temperature), np.std(df.temperature), size=10000)\n",
    "x_theo_temp, y_theo_temp = ecdf(theo_dist)\n",
    "\n",
    "\n",
    "plt.plot(x_theo_temp,y_theo_temp)\n",
    "plt.title('Human body temperature actual vs theoretical distribution')\n",
    "plt.ylabel('ECDF')\n",
    "plt.xlabel('Temperature (°F)')\n",
    "plt.margins(.02)\n",
    "plt.legend(('Theoretical CDF','ECDF'))\n",
    "plt.show()"
   ]
  },
  {
   "cell_type": "markdown",
   "metadata": {},
   "source": [
    "We have the ECDF and theoretical CDF comparison to assist in identifying if our temperature data set is normal. From this graph we can see that:\n",
    "\n",
    "**The distribution of the data is normal**\n",
    "\n",
    "As an additional measure of certainty, we'll use bootstrapping on the sample to increase the number observations then see if this larger sample size does show a normal distribution."
   ]
  },
  {
   "cell_type": "code",
   "execution_count": 13,
   "metadata": {},
   "outputs": [],
   "source": [
    "# This function will allow us to take our data and increase the number of our observations.\n",
    "\n",
    "def draw_bs_reps(data, func, size=1):\n",
    "    \"\"\"Draw bootstrap replicates.\"\"\"\n",
    "\n",
    "    # Initialize array of replicates: bs_replicates\n",
    "    bs_replicates = np.empty(size)\n",
    "\n",
    "    # Generate replicates\n",
    "    for i in range(size):\n",
    "        bs_replicates[i] = func(np.random.choice(data, len(data)))\n",
    "\n",
    "    return bs_replicates"
   ]
  },
  {
   "cell_type": "code",
   "execution_count": 14,
   "metadata": {},
   "outputs": [
    {
     "name": "stdout",
     "output_type": "stream",
     "text": [
      "The standard error of the mean of the original data is: 0.06405661469519336\n",
      "The standard error of the mean of our bootstrapped data is: 0.06409412549444757\n"
     ]
    },
    {
     "data": {
      "image/png": "[encoded data removed]",
      "text/plain": [
       "<matplotlib.figure.Figure at 0x7f2c88952470>"
      ]
     },
     "metadata": {},
     "output_type": "display_data"
    },
    {
     "name": "stdout",
     "output_type": "stream",
     "text": [
      "There is a 95% chance a data point would fall between [98.12384615 98.37538462]\n",
      "The difference between the 2.5%, 50%, 97.5% percentiles are:  [0.12542717] [0.12611129]\n",
      "This shows that we have symmetry, normal distribution\n"
     ]
    }
   ],
   "source": [
    "# Take 100,000 bootstrap replicates of the mean: bs_replicates\n",
    "bs_replicates = draw_bs_reps(df.temperature, np.mean, 100000)\n",
    "\n",
    "# Compute and print SEM\n",
    "sem = np.std(df.temperature) / np.sqrt(len(df.temperature))\n",
    "print('The standard error of the mean of the original data is: ' + str(sem))\n",
    "\n",
    "# Compute and print standard deviation of bootstrap replicates\n",
    "bs_std = np.std(bs_replicates)\n",
    "print('The standard error of the mean of our bootstrapped data is: ' + str(bs_std))\n",
    "\n",
    "# Make a histogram of the results\n",
    "_ = plt.hist(bs_replicates, bins=50, normed=True)\n",
    "_ = plt.xlabel('mean human body temperature (°F)')\n",
    "_ = plt.ylabel('PDF')\n",
    "\n",
    "# Show the plot\n",
    "plt.show()\n",
    "\n",
    "print('There is a 95% chance a data point would fall between', np.percentile(bs_replicates, [2.5, 97.5]))\n",
    "print('The difference between the 2.5%, 50%, 97.5% percentiles are: ',\\\n",
    "     np.mean(bs_replicates) - np.percentile(bs_replicates, [2.5]),\\\n",
    "     np.percentile(bs_replicates, [97.5]) - np.mean(bs_replicates))\n",
    "print('This shows that we have symmetry, normal distribution')"
   ]
  },
  {
   "cell_type": "markdown",
   "metadata": {},
   "source": [
    "This is a probabilistic estimate of the mean human body temperature. The distribution of this data is normal. The SEM for our original data set and bootstrapped data set are near identical. \n",
    "\n",
    "When taken in context with the ECDF and CDF comparison, we can safely say that **the distribution of our Human body temperature is normal**."
   ]
  },
  {
   "cell_type": "markdown",
   "metadata": {},
   "source": [
    "*The standard deviation of this distribution, called the standard error of the mean, or SEM, is given by the standard deviation of the data divided by the square root of the number of data points. *"
   ]
  },
  {
   "cell_type": "markdown",
   "metadata": {},
   "source": [
    "## 2. Is the sample size large? Are the observations independent?\n",
    "* Remember that this is a condition for the Central Limit Theorem, and hence the statistical tests we are using, to apply. "
   ]
  },
  {
   "cell_type": "markdown",
   "metadata": {},
   "source": [
    "**The sample size for the human body temperature data consists of 130 observations as such the sample is large.**\n",
    "* 65 observations with female (F) classification\n",
    "* 65 observations with male (M) classification. We have a sufficiently large sample size\n",
    "\n",
    "_Proof for assertion:_\n",
    "\n",
    "\"A 95% degree confidence corresponds to $\\alpha$ = 0.05. Each of the shaded tails in the following figure has an area of $\\alpha$/2 = 0.025. The region to the left of $z_\\alpha/_2$ and to the right of z = 0 is 0.5 – 0.025, or 0.475. In the table of the standard normal (z) distribution, an area of 0.475 corresponds to a z value of 1.96. The critical value is therefore = 1.96\" [2]. For a 99% degree of confidence we have a critical value of 2.58\n",
    "\n",
    "To find our necessary n sample size, we can solve\n",
    "\n",
    "n = ((critical value * Std. Dev. of sample) / (Abs. value of observed sample mean - population mean)) ^ 2\n",
    "\n",
    "In our instance the calculations for 95% and 99% from z-values are:\n",
    "\n",
    "17 (approx.) = ( (1.96 * .733) / (|98.25 - 98.6|) )^2\n",
    "\n",
    "29 (approx) = ( (2.58 * .733) / (|98.25 - 98.6|) )^2\n",
    "\n",
    "From this we can say for a 95% degree of confidence, we'd need a sample of at least 17. For a 99% degree of confidence we'd require at least 29 samples. Using T-score table values, our approximate N for those degrees of confidence are at least 17, and 30.\n",
    "\n",
    "[2]: https://www.isixsigma.com/tools-templates/sampling-data/how-determine-sample-size-determining-sample-size/"
   ]
  },
  {
   "cell_type": "markdown",
   "metadata": {},
   "source": [
    "**The observations are independent**\n",
    "* each observation was taken independantly of the other observations"
   ]
  },
  {
   "cell_type": "markdown",
   "metadata": {},
   "source": [
    "## 3. Is the true population mean really 98.6 degrees F?\n",
    "\n",
    "* Try a bootstrap hypothesis test.\n",
    "* Try frequentist statistical testing. \n",
    "    * One-sample or two-sample test? Why?\n",
    "    * Is it appropriate to use the tt or zz statistic?\n",
    "    * Try using the other test. How is the result be different? Why? "
   ]
  },
  {
   "cell_type": "markdown",
   "metadata": {},
   "source": [
    "#### Our first approach will be the bootstrap hypothesis test:"
   ]
  },
  {
   "cell_type": "markdown",
   "metadata": {},
   "source": [
    "$H_0$: The mean of the data sample ($\\mu$) is 98.6°F ($\\mu_0$), $\\mu$ = $\\mu_0$. $\\alpha$ = 0.05\n",
    "\n",
    "$H_A$: The mean of the data sample is not 98.6°F. $\\mu\\neq\\mu_0$."
   ]
  },
  {
   "cell_type": "code",
   "execution_count": 15,
   "metadata": {},
   "outputs": [
    {
     "data": {
      "image/png": "[encoded data removed]",
      "text/plain": [
       "<matplotlib.figure.Figure at 0x7f2c888e6a58>"
      ]
     },
     "metadata": {},
     "output_type": "display_data"
    }
   ],
   "source": [
    "# Shifting the sample mean to 98.6\n",
    "sample_mean_shifted = df.temperature - np.mean(df.temperature) + 98.6\n",
    "\n",
    "# calculating, plotting the cdf of the sample data, vert. mean line\n",
    "x_data, y_data = ecdf(df.temperature)\n",
    "plt.plot(x_data, y_data, marker='.', linestyle='none', label='Sample data', color='red')\n",
    "#plt.axvline(np.mean(df.temperature), linestyle='-', label='Sample mean', color='red', alpha=.5)\n",
    "\n",
    "# calculating, plotting the cdf of the shifted mean data, vert. mean line\n",
    "x_shift, y_shift = ecdf(sample_mean_shifted)\n",
    "plt.plot(x_shift, y_shift, marker='.', linestyle='none', label='Shifted data', color='blue')\n",
    "#plt.axvline(np.mean(sample_mean_shifted), linestyle='-', label='Shifted mean', color='blue', alpha=.5)\n",
    "\n",
    "plt.title('Human body temperature: sample mean & shifted mean distribution')\n",
    "plt.ylabel('CDF')\n",
    "plt.xlabel('Temperature (°F)')\n",
    "plt.margins(.02)\n",
    "plt.legend()\n",
    "plt.show()"
   ]
  },
  {
   "cell_type": "code",
   "execution_count": 16,
   "metadata": {},
   "outputs": [
    {
     "name": "stdout",
     "output_type": "stream",
     "text": [
      "The difference of our sample mean and the pop. mean is:  -0.35077\n"
     ]
    }
   ],
   "source": [
    "# This will also be used to calculate our t_test numerator\n",
    "def diff_pop_mean(data, pop_mean=98.6): #TPM defaulted to 98.6\n",
    "    '''Will take an input, calculate its mean, compute and return the difference from TPM'''\n",
    "    return np.mean(data) - pop_mean\n",
    "\n",
    "diff_obs = diff_pop_mean(df.temperature)\n",
    "\n",
    "print('The difference of our sample mean and the pop. mean is: ', f'{diff_obs:.5f}')"
   ]
  },
  {
   "cell_type": "code",
   "execution_count": 17,
   "metadata": {},
   "outputs": [
    {
     "name": "stdout",
     "output_type": "stream",
     "text": [
      "The probability, p-value, that we would get a value of 98.6°F or more extreme is: 0.000000\n"
     ]
    }
   ],
   "source": [
    "bs_shifted_mean = draw_bs_reps(sample_mean_shifted, diff_pop_mean, 100000)\n",
    "# value of our test statistic computed from a bootstrap sample\n",
    "\n",
    "p_value = np.sum(bs_shifted_mean >= 98.6) / len(bs_shifted_mean)\n",
    "print('The probability, p-value, that we would get a value of 98.6°F or more extreme is:', f'{p_value:.6f}')"
   ]
  },
  {
   "cell_type": "markdown",
   "metadata": {},
   "source": [
    "**Our second approach will be to use a one sample approach. We'll use this because we're comparing our sample (hypothesis) mean to a population mean (of 98.6)**\n",
    "\n",
    "We'll start by using the t-test:\n",
    "\n",
    "_t-value = (sample mean - population mean) / (sample standard deviation / square root of sample size)_\n",
    "\n",
    "_z-value = (sample mean - population mean) / population standard deviation_\n",
    "\n",
    "The population standard deviation can be approximated by sample standard deviation / square root of sample size. Due to this we'll use the original t-value also as our z-value"
   ]
  },
  {
   "cell_type": "code",
   "execution_count": 18,
   "metadata": {},
   "outputs": [
    {
     "name": "stdout",
     "output_type": "stream",
     "text": [
      "The t-value is:  -5.454823292364079\n",
      "with:  129  degrees of freedom\n",
      "The p-value is:  2.4106320415609943e-07\n"
     ]
    }
   ],
   "source": [
    "'''Calculates t-statistic'''\n",
    "def t_test(data, pop_mean=98.6) :\n",
    "    return diff_pop_mean(data, pop_mean) / (data.std(ddof=1) / np.sqrt(len(data)))\n",
    "\n",
    "deg_free = len(df.temperature) - 1 # degrees of freedom = (n-1)\n",
    "t_val = t_test(df.temperature)\n",
    "pt_val = 2*(stats.t.sf(abs(t_val), deg_free))\n",
    "print('The t-value is: ', t_test(df.temperature))\n",
    "print('with: ', deg_free, ' degrees of freedom')\n",
    "print('The p-value is: ', pt_val) "
   ]
  },
  {
   "cell_type": "code",
   "execution_count": 19,
   "metadata": {},
   "outputs": [
    {
     "name": "stdout",
     "output_type": "stream",
     "text": [
      "Our p-value,  2.4106320415609943e-07  needs to be equal or greater than our alpha, 0.05.\n",
      "Assuming the Pop. mean is 98.6, this result could be observed in approximately 0.0000002411 % of samples\n",
      "Our null hypothesis is probabalistically false\n"
     ]
    }
   ],
   "source": [
    "print('Our p-value, ', pt_val, ' needs to be equal or greater than our alpha, 0.05.')\n",
    "print('Assuming the Pop. mean is 98.6, this result could be observed in approximately', f'{pt_val:.10f}', '% of samples')\n",
    "print('Our null hypothesis is probabalistically false')"
   ]
  },
  {
   "cell_type": "markdown",
   "metadata": {},
   "source": [
    "**Our null hypothesis from our t-values is probabalistically false, This is shown visually below**\n",
    "\n",
    "A t-value of -5.45 means that we're 5.45 standard deviations below/left of our 98.6°F population mean ($\\mu_0$).\n",
    "The area under the curve is represented in our p-value"
   ]
  },
  {
   "cell_type": "code",
   "execution_count": 20,
   "metadata": {},
   "outputs": [
    {
     "name": "stdout",
     "output_type": "stream",
     "text": [
      "The probability, p-value, that is shown by the red, t-val line is:  0.0000002411\n",
      "The values we'd need for 95%, and 99% confidence are shown in orange and purple\n"
     ]
    },
    {
     "data": {
      "image/png": "[encoded data removed]",
      "text/plain": [
       "<matplotlib.figure.Figure at 0x7f2c88573860>"
      ]
     },
     "metadata": {},
     "output_type": "display_data"
    }
   ],
   "source": [
    "plt.hist(np.random.standard_t(deg_free, size=100000), bins=100, normed=True)\n",
    "\n",
    "plt.axvline(-2.8561, linestyle='-', label='95% ', color='orange', alpha=.5)\n",
    "plt.axvline(-3.3676, linestyle='-', label='99% ', color='purple', alpha=.5)\n",
    "plt.axvline(t_val, linestyle='-', label='t-val', color='red', alpha=.5)\n",
    "\n",
    "plt.xlabel('T-values')\n",
    "plt.ylabel('Probability')\n",
    "plt.margins(.02)\n",
    "plt.legend(bbox_to_anchor=(1.05, 1), loc=2, borderaxespad=0.)\n",
    "plt.plot()\n",
    "\n",
    "print('The probability, p-value, that is shown by the red, t-val line is: ', f'{pt_val:.10f}')\n",
    "print('The values we\\'d need for 95%, and 99% confidence are shown in orange and purple')"
   ]
  },
  {
   "cell_type": "markdown",
   "metadata": {},
   "source": [
    "**We'll conclude by using a zz statistic to analyze our sample, and compare them with our tt statistic results**"
   ]
  },
  {
   "cell_type": "code",
   "execution_count": 21,
   "metadata": {},
   "outputs": [
    {
     "name": "stdout",
     "output_type": "stream",
     "text": [
      "The z-value is:  -5.454823292364079\n",
      "The p-value is:  0.0000000490\n"
     ]
    }
   ],
   "source": [
    "z_val = t_val\n",
    "pz_val = 2 * stats.norm.sf(abs(z_val))\n",
    "\n",
    "print('The z-value is: ', z_val)\n",
    "print('The p-value is: ', f'{pz_val:.10f}')"
   ]
  },
  {
   "cell_type": "code",
   "execution_count": 22,
   "metadata": {},
   "outputs": [
    {
     "name": "stdout",
     "output_type": "stream",
     "text": [
      "Our p-value,  4.90215701411338e-08  needs to be equal or greater than our alpha, 0.05.\n",
      "Assuming the Pop. mean is 98.6, this result could be observed in approximately 0.0000000490 % of samples\n",
      "Our null hypothesis is probabalistically false\n"
     ]
    }
   ],
   "source": [
    "print('Our p-value, ', pz_val, ' needs to be equal or greater than our alpha, 0.05.')\n",
    "print('Assuming the Pop. mean is 98.6, this result could be observed in approximately', f'{pz_val:.10f}', '% of samples')\n",
    "print('Our null hypothesis is probabalistically false')"
   ]
  },
  {
   "cell_type": "markdown",
   "metadata": {},
   "source": [
    "**Our null hypothesis from our z-values is probabalistically false, This is shown visually below**\n",
    "\n",
    "A z-value of -5.45 means that we're 5.45 standard deviations below/left of our 98.6°F population mean ($\\mu_0$).\n",
    "The area under the curve is represented in our p-value"
   ]
  },
  {
   "cell_type": "code",
   "execution_count": 23,
   "metadata": {},
   "outputs": [
    {
     "name": "stdout",
     "output_type": "stream",
     "text": [
      "The probability, p-value, that is shown by the red, result t-val line is:  0.0000000490\n",
      "The values we'd need for 95%, and 99% confidence are shown in orange and purple\n"
     ]
    },
    {
     "data": {
      "image/png": "[encoded data removed]",
      "text/plain": [
       "<matplotlib.figure.Figure at 0x7f2c922f7c88>"
      ]
     },
     "metadata": {},
     "output_type": "display_data"
    }
   ],
   "source": [
    "plt.hist(np.random.standard_t(deg_free, size=100000), bins=100, normed=True)\n",
    "\n",
    "plt.axvline(-1.98, linestyle='-', label='95% ', color='orange', alpha=.5)\n",
    "plt.axvline(-2.62, linestyle='-', label='99% ', color='purple', alpha=.5)\n",
    "plt.axvline(z_val, linestyle='-', label='result z-val', color='red', alpha=.5)\n",
    "\n",
    "plt.xlabel('z-values')\n",
    "plt.ylabel('Probability')\n",
    "plt.margins(.02)\n",
    "plt.legend(bbox_to_anchor=(1.05, 1), loc=2, borderaxespad=0.)\n",
    "plt.plot()\n",
    "\n",
    "print('The probability, p-value, that is shown by the red, result t-val line is: ', f'{pz_val:.10f}')\n",
    "print('The values we\\'d need for 95%, and 99% confidence are shown in orange and purple')"
   ]
  },
  {
   "cell_type": "markdown",
   "metadata": {},
   "source": [
    "**We can probabalistically reject $H_0$: $\\mu$ = $\\mu_0$**\n",
    "\n",
    "Our results from bootstrapping, t-values, and z-values all probabilistically show that the alternate hypothesis: $H_A$: The mean of the data sample is not 98.6°F. $\\mu\\neq\\mu_0$, is probabilistically true.\n",
    "\n",
    "While our t-value and z-value are the same, their p-values differ."
   ]
  },
  {
   "cell_type": "code",
   "execution_count": 24,
   "metadata": {},
   "outputs": [
    {
     "name": "stdout",
     "output_type": "stream",
     "text": [
      "0.0000002411\n",
      "0.0000000490\n",
      "Their difference is  0.000000192\n",
      "The difference stems from the different critical values between t-values and z-values for looking up p-values\n",
      "In this instance, while different, they still prove the null hypothesis is false\n"
     ]
    }
   ],
   "source": [
    "print(f'{pt_val:.10f}')\n",
    "print(f'{pz_val:.10f}')\n",
    "print('Their difference is ', f'{pt_val-pz_val:.9f}')\n",
    "print('The difference stems from the different critical values between t-values and z-values for looking up p-values')\n",
    "print('In this instance, while different, they still prove the null hypothesis is false')"
   ]
  },
  {
   "cell_type": "markdown",
   "metadata": {},
   "source": [
    "## 4. Draw a small sample of size 10 from the data and repeat both frequentist tests.\n",
    "* Which one is the correct one to use?\n",
    "* What do you notice? What does this tell you about the difference in application of the tt and zz statistic? "
   ]
  },
  {
   "cell_type": "code",
   "execution_count": 25,
   "metadata": {},
   "outputs": [
    {
     "data": {
      "text/plain": [
       "array([98.2, 98.4, 99. , 97.5, 98.8, 97.4, 98.6, 98. , 97.6, 98.2])"
      ]
     },
     "execution_count": 25,
     "metadata": {},
     "output_type": "execute_result"
    }
   ],
   "source": [
    "'''Drawing the 10 value sample size from temperature data'''\n",
    "sample_10 = np.random.choice(df.temperature, size=10)\n",
    "sample_10"
   ]
  },
  {
   "cell_type": "markdown",
   "metadata": {},
   "source": [
    "**T-test with 10 observations from our sample**"
   ]
  },
  {
   "cell_type": "code",
   "execution_count": 26,
   "metadata": {},
   "outputs": [
    {
     "name": "stdout",
     "output_type": "stream",
     "text": [
      "The t-value is:  -2.4730075338347306\n",
      "with:  9  degrees of freedom\n",
      "The p-value is:  0.03539518885548314\n"
     ]
    }
   ],
   "source": [
    "deg_free = len(sample_10) - 1 # degrees of freedom = (n-1)\n",
    "t_10 = t_test(sample_10)\n",
    "pt_10 = 2*(stats.t.sf(abs(t_10), deg_free))\n",
    "\n",
    "print('The t-value is: ', t_10)\n",
    "print('with: ', deg_free, ' degrees of freedom')\n",
    "print('The p-value is: ', pt_10) "
   ]
  },
  {
   "cell_type": "code",
   "execution_count": 27,
   "metadata": {},
   "outputs": [
    {
     "name": "stdout",
     "output_type": "stream",
     "text": [
      "Our p-value,  0.03539518885548314  needs to be equal or greater than our alpha, 0.05.\n",
      "Assuming the Pop. mean is 98.6, this result could be observed in approximately 0.03540 % of samples\n",
      "Our null hypothesis is probabalistically false\n"
     ]
    }
   ],
   "source": [
    "print('Our p-value, ', pt_10, ' needs to be equal or greater than our alpha, 0.05.')\n",
    "if pt_10 < 0.05 : \n",
    "    print('Assuming the Pop. mean is 98.6, this result could be observed in approximately', f'{pt_10:.5f}', '% of samples')\n",
    "    print('Our null hypothesis is probabalistically false')\n",
    "else : print('Our null hypothesis is probabalistically true')"
   ]
  },
  {
   "cell_type": "code",
   "execution_count": 28,
   "metadata": {},
   "outputs": [
    {
     "name": "stdout",
     "output_type": "stream",
     "text": [
      "The probability, p-value, that is shown by the red, result t-val line is:  0.03540\n",
      "The values we'd need for 95%, and 99% confidence are shown in orange and purple\n"
     ]
    },
    {
     "data": {
      "image/png": "[encoded data removed]",
      "text/plain": [
       "<matplotlib.figure.Figure at 0x7f2c888e0a90>"
      ]
     },
     "metadata": {},
     "output_type": "display_data"
    }
   ],
   "source": [
    "plt.hist(np.random.standard_t(deg_free, size=100000), bins=100, normed=True)\n",
    "\n",
    "plt.axvline(-2.8561,  linestyle='-', label='95% ', color='orange', alpha=.5)\n",
    "plt.axvline(-3.3676, linestyle='-', label='99% ', color='purple', alpha=.5)\n",
    "plt.axvline(t_10, linestyle='-', label='result t-val', color='red', alpha=.5)\n",
    "\n",
    "plt.xlabel('T-values')\n",
    "plt.ylabel('Probability')\n",
    "plt.margins(.02)\n",
    "plt.legend(bbox_to_anchor=(1.05, 1), loc=2, borderaxespad=0.)\n",
    "plt.plot()\n",
    "\n",
    "print('The probability, p-value, that is shown by the red, result t-val line is: ', f'{pt_10:.5f}')\n",
    "print('The values we\\'d need for 95%, and 99% confidence are shown in orange and purple')"
   ]
  },
  {
   "cell_type": "markdown",
   "metadata": {},
   "source": [
    "**Z-test with 10 observations from our sample**"
   ]
  },
  {
   "cell_type": "code",
   "execution_count": 29,
   "metadata": {},
   "outputs": [
    {
     "name": "stdout",
     "output_type": "stream",
     "text": [
      "The z-value is:  -2.4730075338347306\n",
      "The p-value is:  0.013398131850525387\n"
     ]
    }
   ],
   "source": [
    "z_10 = t_10\n",
    "pz_10 = 2 * stats.norm.sf(abs(z_10))\n",
    "\n",
    "print('The z-value is: ', z_10)\n",
    "print('The p-value is: ', pz_10)"
   ]
  },
  {
   "cell_type": "code",
   "execution_count": 30,
   "metadata": {},
   "outputs": [
    {
     "name": "stdout",
     "output_type": "stream",
     "text": [
      "The probability, p-value, that is shown by the red, result t-val line is:  0.01340\n",
      "The values we'd need for 95%, and 99% confidence are shown in orange and purple\n"
     ]
    },
    {
     "data": {
      "image/png": "[encoded data removed]",
      "text/plain": [
       "<matplotlib.figure.Figure at 0x7f2c89b62588>"
      ]
     },
     "metadata": {},
     "output_type": "display_data"
    }
   ],
   "source": [
    "plt.hist(np.random.standard_t(deg_free, size=100000), bins=100, normed=True)\n",
    "\n",
    "plt.axvline(-1.98, linestyle='-', label='95% ', color='orange', alpha=.5)\n",
    "plt.axvline(-2.62, linestyle='-', label='99% ', color='purple', alpha=.5)\n",
    "plt.axvline(z_10, linestyle='-', label='result z-val', color='red', alpha=.5)\n",
    "\n",
    "plt.xlabel('z-values')\n",
    "plt.ylabel('Probability')\n",
    "plt.margins(.02)\n",
    "plt.legend(bbox_to_anchor=(1.05, 1), loc=2, borderaxespad=0.)\n",
    "plt.plot()\n",
    "\n",
    "print('The probability, p-value, that is shown by the red, result t-val line is: ', f'{pz_10:.5f}')\n",
    "print('The values we\\'d need for 95%, and 99% confidence are shown in orange and purple')"
   ]
  },
  {
   "cell_type": "markdown",
   "metadata": {},
   "source": [
    "**Due to the sample being limited to below our critical N values for z-testing that we proved above, a t-test would be more appropriate in this 10 sample test**"
   ]
  },
  {
   "cell_type": "markdown",
   "metadata": {},
   "source": [
    "## 5. At what temperature should we consider someone's temperature to be \"abnormal\"?\n",
    "\n",
    "1. Start by computing the margin of error and confidence interval. \n",
    "    * When calculating the confidence interval, **keep in mind that you should use the appropriate formula for one draw, and not N draws.**\n",
    "2. Try calculating everything using the boostrap approach\n",
    "3. Try using the frequentist approach."
   ]
  },
  {
   "cell_type": "markdown",
   "metadata": {},
   "source": [
    "**The first step, and second, was done previously when looking at the normal distributions, the results were as follows:**"
   ]
  },
  {
   "cell_type": "code",
   "execution_count": 31,
   "metadata": {},
   "outputs": [
    {
     "name": "stdout",
     "output_type": "stream",
     "text": [
      "The standard error of the mean of the original data is:  0.06406\n",
      "The standard error of the mean of our bootstrapped data is:  0.06409\n",
      "\n",
      "There is a 95% chance a data point would fall between [98.12384615 98.37538462]\n",
      "The difference between the 2.5%, 50%, 97.5% percentiles are:  [0.12542717] [0.12611129]\n"
     ]
    }
   ],
   "source": [
    "print('The standard error of the mean of the original data is: ', f'{sem:.5f}')\n",
    "print('The standard error of the mean of our bootstrapped data is: ', f'{bs_std:.5f}')\n",
    "print('\\nThere is a 95% chance a data point would fall between', np.percentile(bs_replicates, [2.5, 97.5]))\n",
    "print('The difference between the 2.5%, 50%, 97.5% percentiles are: ',\\\n",
    "     np.mean(bs_replicates) - np.percentile(bs_replicates, [2.5]),\\\n",
    "     np.percentile(bs_replicates, [97.5]) - np.mean(bs_replicates))"
   ]
  },
  {
   "cell_type": "code",
   "execution_count": 32,
   "metadata": {},
   "outputs": [
    {
     "data": {
      "image/png": "[encoded data removed]",
      "text/plain": [
       "<matplotlib.figure.Figure at 0x7f2c89d0c7f0>"
      ]
     },
     "metadata": {},
     "output_type": "display_data"
    }
   ],
   "source": [
    "# Make a histogram of the results\n",
    "plt.hist(bs_replicates, bins=50, normed=True)\n",
    "plt.xlabel('mean human body temperature (°F)')\n",
    "plt.ylabel('PDF')\n",
    "\n",
    "plt.axvline(np.percentile(bs_replicates, [2.5]), linestyle='-', label='2.5% ', color='green', alpha=.5)\n",
    "plt.axvline(np.percentile(bs_replicates, [97.5]), linestyle='-', label='99% ', color='green', alpha=.5)\n",
    "\n",
    "plt.show()"
   ]
  },
  {
   "cell_type": "markdown",
   "metadata": {},
   "source": [
    "**Lastly we'll look at the frequentist approach to look at abnormal temperatures**"
   ]
  },
  {
   "cell_type": "code",
   "execution_count": 48,
   "metadata": {},
   "outputs": [
    {
     "name": "stdout",
     "output_type": "stream",
     "text": [
      "1.437038989756333\n",
      "[96.81219178 99.68626976]\n"
     ]
    }
   ],
   "source": [
    " sd = df['temperature'].std()\n",
    "n = len(df['temperature'])\n",
    "moe = 1.96 * sd\n",
    "print(moe)\n",
    "\n",
    "mean = df['temperature'].mean()\n",
    "ci = mean + np.array([-1, 1]) * moe\n",
    "print(ci) \n",
    "\n",
    "# https://dscareercommunity.springboard.com/t/80k54y/eda-mini-projects\n",
    "# read through https://dscareercommunity.springboard.com/t/k9zdag"
   ]
  },
  {
   "cell_type": "markdown",
   "metadata": {},
   "source": [
    "### for everything that follows\n",
    "* https://github.com/ScottWPiraino/Springboard_Data_Science/blob/master/EDA/body_temp/ci_vs_pi.ipynb"
   ]
  },
  {
   "cell_type": "code",
   "execution_count": 52,
   "metadata": {},
   "outputs": [
    {
     "data": {
      "text/plain": [
       "[98.12200290560804, 98.37645863285351]"
      ]
     },
     "execution_count": 52,
     "metadata": {},
     "output_type": "execute_result"
    }
   ],
   "source": [
    "\n",
    "\n",
    "# t-based confidence interval\n",
    "crit_t = stats.t.ppf(0.975, len(df.temperature) - 1)\n",
    "temp_sem = df.temperature.std()/(np.sqrt(len(df.temperature)))\n",
    "ci_width = crit_t * temp_sem\n",
    "ci_upper_lim = df.temperature.mean() + ci_width\n",
    "ci_lower_lim = df.temperature.mean() - ci_width\n",
    "[ci_lower_lim, ci_upper_lim]\n",
    "\n"
   ]
  },
  {
   "cell_type": "code",
   "execution_count": 54,
   "metadata": {},
   "outputs": [
    {
     "data": {
      "text/plain": [
       "[<matplotlib.lines.Line2D at 0x7f2c89c404e0>]"
      ]
     },
     "execution_count": 54,
     "metadata": {},
     "output_type": "execute_result"
    },
    {
     "data": {
      "image/png": "[encoded data removed]",
      "text/plain": [
       "<matplotlib.figure.Figure at 0x7f2c89b41278>"
      ]
     },
     "metadata": {},
     "output_type": "display_data"
    }
   ],
   "source": [
    "sns.distplot(df.temperature, bins = 15, rug = True)\n",
    "plt.plot([ci_lower_lim, ci_lower_lim], [0.6, 0], linewidth = 2, color = \"k\")\n",
    "plt.plot([ci_upper_lim, ci_upper_lim], [0.6, 0], linewidth = 2, color = \"k\")"
   ]
  },
  {
   "cell_type": "code",
   "execution_count": 55,
   "metadata": {},
   "outputs": [
    {
     "data": {
      "text/plain": [
       "[96.79304131179657, 99.70542022666498]"
      ]
     },
     "execution_count": 55,
     "metadata": {},
     "output_type": "execute_result"
    }
   ],
   "source": [
    "\n",
    "\n",
    "# t-based prediction interval\n",
    "pi_width = crit_t * df.temperature.std() * np.sqrt((1 + 1/(len(df.temperature))))\n",
    "pi_upper_lim = df.temperature.mean() + pi_width\n",
    "pi_lower_lim = df.temperature.mean() - pi_width\n",
    "[pi_lower_lim, pi_upper_lim]\n",
    "\n"
   ]
  },
  {
   "cell_type": "code",
   "execution_count": 57,
   "metadata": {},
   "outputs": [
    {
     "data": {
      "text/plain": [
       "[<matplotlib.lines.Line2D at 0x7f2c8855e080>]"
      ]
     },
     "execution_count": 57,
     "metadata": {},
     "output_type": "execute_result"
    },
    {
     "data": {
      "image/png": "[encoded data removed]",
      "text/plain": [
       "<matplotlib.figure.Figure at 0x7f2c89b41e48>"
      ]
     },
     "metadata": {},
     "output_type": "display_data"
    }
   ],
   "source": [
    "sns.distplot(df.temperature, bins = 15, rug = True)\n",
    "plt.plot([pi_lower_lim, pi_lower_lim], [0.6, 0], linewidth = 2, color = \"k\")\n",
    "plt.plot([pi_upper_lim, pi_upper_lim], [0.6, 0], linewidth = 2, color = \"k\")"
   ]
  },
  {
   "cell_type": "markdown",
   "metadata": {},
   "source": [
    "## End section"
   ]
  },
  {
   "cell_type": "markdown",
   "metadata": {},
   "source": [
    " ## 6. Is there a significant difference between males and females in normal temperature?\n",
    "        What testing approach did you use and why?\n",
    "        Write a story with your conclusion in the context of the original problem. \n",
    "\n"
   ]
  },
  {
   "cell_type": "markdown",
   "metadata": {},
   "source": [
    "$H_0$: The mean female human body temperature ($\\mu$) and male human body temperature ($\\mu_0$) are the same, $\\mu$ = $\\mu_0$. $\\alpha$ = 0.05\n",
    "\n",
    "$H_A$: The means of the two data sets are not equal. $\\mu\\neq\\mu_0$."
   ]
  },
  {
   "cell_type": "markdown",
   "metadata": {},
   "source": [
    "**First we'll do graphical EDA of temperature by gender**"
   ]
  },
  {
   "cell_type": "code",
   "execution_count": 34,
   "metadata": {},
   "outputs": [
    {
     "data": {
      "image/png": "[encoded data removed]",
      "text/plain": [
       "<matplotlib.figure.Figure at 0x7f2c863ad5c0>"
      ]
     },
     "metadata": {},
     "output_type": "display_data"
    }
   ],
   "source": [
    "_ = sns.swarmplot(x='gender', y='temperature', data=df)\n",
    "_ = plt.xlabel('Gender')\n",
    "_ = plt.ylabel('Temperature')\n",
    "plt.show()"
   ]
  },
  {
   "cell_type": "markdown",
   "metadata": {},
   "source": [
    "**Secondly we'll show distribution and comparison by using ECDF's broken down by gender**"
   ]
  },
  {
   "cell_type": "code",
   "execution_count": 35,
   "metadata": {},
   "outputs": [
    {
     "data": {
      "image/png": "[encoded data removed]",
      "text/plain": [
       "<matplotlib.figure.Figure at 0x7f2c862eb748>"
      ]
     },
     "metadata": {},
     "output_type": "display_data"
    }
   ],
   "source": [
    "female_temp = df.temperature[df['gender']=='F']\n",
    "male_temp = df.temperature[df['gender']=='M']\n",
    "\n",
    "male_x, male_y = ecdf(male_temp)\n",
    "fmale_x, fmale_y = ecdf(female_temp)\n",
    "\n",
    "plt.plot(male_x, male_y, marker='.', linestyle='none', color='red')\n",
    "plt.plot(fmale_x, fmale_y, marker='.', linestyle='none', color='blue')\n",
    "plt.title('Human body temperature: Male vs. Female')\n",
    "plt.ylabel('CDF')\n",
    "plt.xlabel('Temperature (°F)')\n",
    "plt.margins(.02)\n",
    "plt.legend(('Male','Female'))\n",
    "plt.show()"
   ]
  },
  {
   "cell_type": "markdown",
   "metadata": {},
   "source": [
    "**Our first testing approach will be to use a shifted mean bootstrapped approach**"
   ]
  },
  {
   "cell_type": "code",
   "execution_count": 36,
   "metadata": {},
   "outputs": [
    {
     "data": {
      "text/plain": [
       "0.289230769230727"
      ]
     },
     "execution_count": 36,
     "metadata": {},
     "output_type": "execute_result"
    }
   ],
   "source": [
    "def diff_of_means(data_1, data_2):\n",
    "    \"\"\"Difference in means of two arrays.\"\"\"\n",
    "    return np.mean(data_1) - np.mean(data_2)\n",
    "\n",
    "emp_mean_diff = diff_of_means(female_temp, male_temp)\n",
    "emp_mean_diff"
   ]
  },
  {
   "cell_type": "code",
   "execution_count": 37,
   "metadata": {},
   "outputs": [
    {
     "name": "stdout",
     "output_type": "stream",
     "text": [
      "difference of means = 0.289230769230727 (°F)\n",
      "95% confidence interval = [0.289202 0.289202] (°F)\n"
     ]
    }
   ],
   "source": [
    "# Get bootstrap replicates of means\n",
    "bs_replicates_female = draw_bs_reps(female_temp, np.mean, 10000)\n",
    "bs_replicates_male = draw_bs_reps(male_temp, np.mean, 10000)\n",
    "\n",
    "# Compute samples of difference of means: bs_diff_replicates\n",
    "bs_diff_replicates = diff_of_means(bs_replicates_female, bs_replicates_male)\n",
    "\n",
    "# Compute 95% confidence interval: conf_int\n",
    "conf_int = np.percentile(bs_diff_replicates,[2.5,97.5])\n",
    "\n",
    "# Print the results\n",
    "print('difference of means =', emp_mean_diff, '(°F)')\n",
    "print('95% confidence interval =', conf_int, '(°F)')"
   ]
  },
  {
   "cell_type": "code",
   "execution_count": 38,
   "metadata": {},
   "outputs": [
    {
     "name": "stdout",
     "output_type": "stream",
     "text": [
      "p = 0.0088\n"
     ]
    }
   ],
   "source": [
    "# Compute mean of combined data set: combined_mean\n",
    "combined_mean = np.mean(df.temperature)\n",
    "\n",
    "# Shift the samples\n",
    "bd_female_shifted = female_temp - np.mean(female_temp) + combined_mean\n",
    "bd_male_shifted = male_temp - np.mean(male_temp) + combined_mean\n",
    "\n",
    "# Get bootstrap replicates of shifted data sets\n",
    "bs_replicates_female = draw_bs_reps(bd_female_shifted, np.mean, 10000)\n",
    "bs_replicates_male = draw_bs_reps(bd_male_shifted, np.mean, 10000)\n",
    "\n",
    "# Compute replicates of difference of means: bs_diff_replicates\n",
    "bs_diff_replicates = bs_replicates_male - bs_replicates_female\n",
    "\n",
    "# Compute the p-value\n",
    "p = np.sum(bs_diff_replicates >= emp_mean_diff) / len(bs_diff_replicates)\n",
    "\n",
    "# Print p-value\n",
    "print('p =', p)\n"
   ]
  },
  {
   "cell_type": "code",
   "execution_count": 39,
   "metadata": {},
   "outputs": [
    {
     "name": "stdout",
     "output_type": "stream",
     "text": [
      "Our p-value,  0.0088  needs to be equal or greater than our alpha, 0.05.\n",
      "Assuming the means are equal, this result could be observed in approximately 0.0088 % of samples\n",
      "Our null hypothesis is probabalistically false\n"
     ]
    }
   ],
   "source": [
    "print('Our p-value, ', p, ' needs to be equal or greater than our alpha, 0.05.')\n",
    "if p < 0.05 : \n",
    "    print('Assuming the means are equal, this result could be observed in approximately', f'{p:.4f}', '% of samples')\n",
    "    print('Our null hypothesis is probabalistically false')\n",
    "else : print('Our null hypothesis is probabalistically true')"
   ]
  },
  {
   "cell_type": "markdown",
   "metadata": {},
   "source": [
    "**Bootstrapping, calculating and comparing permutation to bootstrapped shifted mean results**"
   ]
  },
  {
   "cell_type": "code",
   "execution_count": 40,
   "metadata": {},
   "outputs": [],
   "source": [
    "def permutation_sample(data1, data2):\n",
    "    \"\"\"Generate a permutation sample from two data sets.\"\"\"\n",
    "\n",
    "    # Concatenate the data sets: data\n",
    "    data = np.concatenate((data1,data2))\n",
    "\n",
    "    # Permute the concatenated array: permuted_data\n",
    "    permuted_data = np.random.permutation(data)\n",
    "\n",
    "    # Split the permuted array into two: perm_sample_1, perm_sample_2\n",
    "    perm_sample_1 = permuted_data[:len(data1)]\n",
    "    perm_sample_2 = permuted_data[len(data1):]\n",
    "\n",
    "    return perm_sample_1, perm_sample_2"
   ]
  },
  {
   "cell_type": "code",
   "execution_count": 41,
   "metadata": {},
   "outputs": [],
   "source": [
    "def draw_perm_reps(data_1, data_2, func, size=1):\n",
    "    \"\"\"Generate multiple permutation replicates.\"\"\"\n",
    "\n",
    "    # Initialize array of replicates: perm_replicates\n",
    "    perm_replicates = np.empty(size)\n",
    "\n",
    "    for i in range(size):\n",
    "        # Generate permutation sample\n",
    "        perm_sample_1, perm_sample_2 = permutation_sample(data_1, data_2)\n",
    "\n",
    "        # Compute the test statistic\n",
    "        perm_replicates[i] = func(perm_sample_1,perm_sample_2)\n",
    "\n",
    "    return perm_replicates"
   ]
  },
  {
   "cell_type": "code",
   "execution_count": 42,
   "metadata": {},
   "outputs": [
    {
     "name": "stdout",
     "output_type": "stream",
     "text": [
      "p-value = 0.0128\n"
     ]
    }
   ],
   "source": [
    "# Draw 10,000 permutation replicates: perm_replicates\n",
    "perm_replicates = draw_perm_reps(female_temp, male_temp, diff_of_means, size=10000)\n",
    "\n",
    "# Compute p-value: p\n",
    "p = np.sum(perm_replicates >= emp_mean_diff) / len(perm_replicates)\n",
    "\n",
    "# Print the result\n",
    "print('p-value =', p)"
   ]
  },
  {
   "cell_type": "code",
   "execution_count": 43,
   "metadata": {},
   "outputs": [
    {
     "name": "stdout",
     "output_type": "stream",
     "text": [
      "Our p-value,  0.0128  needs to be equal or greater than our alpha, 0.05.\n",
      "Assuming the means are equal, this result could be observed in approximately 0.0128 % of samples\n",
      "Our null hypothesis is probabalistically false\n"
     ]
    }
   ],
   "source": [
    "print('Our p-value, ', p, ' needs to be equal or greater than our alpha, 0.05.')\n",
    "if p < 0.05 : \n",
    "    print('Assuming the means are equal, this result could be observed in approximately', f'{p:.4f}', '% of samples')\n",
    "    print('Our null hypothesis is probabalistically false')\n",
    "else : print('Our null hypothesis is probabalistically true')"
   ]
  },
  {
   "cell_type": "code",
   "execution_count": 44,
   "metadata": {},
   "outputs": [
    {
     "data": {
      "text/plain": [
       "0.02228736076067726"
      ]
     },
     "execution_count": 44,
     "metadata": {},
     "output_type": "execute_result"
    }
   ],
   "source": [
    "males = df.gender == 'M'\n",
    "diff_means = df.temperature[males].mean() - df.temperature[~males].mean()\n",
    "sd_male = df.temperature[males].std()\n",
    "sd_female = df.temperature[~males].std()\n",
    "n_male = np.sum(males)\n",
    "n_female = len(df.temperature) - n_male\n",
    "\n",
    "z = diff_means / np.sqrt(((sd_male ** 2)/ n_male) + ((sd_female ** 2)/ n_female))\n",
    "z\n",
    "\n",
    "pval = stats.norm.cdf(z) * 2\n",
    "pval\n",
    "\n",
    "#From https://dscareercommunity.springboard.com/t/80k54y/eda-mini-projects"
   ]
  },
  {
   "cell_type": "code",
   "execution_count": 45,
   "metadata": {},
   "outputs": [
    {
     "name": "stdout",
     "output_type": "stream",
     "text": [
      "Our p-value,  0.02228736076067726  needs to be equal or greater than our alpha, 0.05.\n",
      "Assuming the means are equal, this result could be observed in approximately 0.0223 % of samples\n",
      "Our null hypothesis is probabalistically false\n"
     ]
    }
   ],
   "source": [
    "print('Our p-value, ', pval, ' needs to be equal or greater than our alpha, 0.05.')\n",
    "if pval < 0.05 : \n",
    "    print('Assuming the means are equal, this result could be observed in approximately', f'{pval:.4f}', '% of samples')\n",
    "    print('Our null hypothesis is probabalistically false')\n",
    "else : print('Our null hypothesis is probabalistically true')"
   ]
  },
  {
   "cell_type": "markdown",
   "metadata": {},
   "source": [
    "**From this we can say that probabalistically there exists a difference in the mean temperature between females and males**"
   ]
  },
  {
   "cell_type": "markdown",
   "metadata": {},
   "source": [
    "## Final summary and conclusion\n",
    "* pending review"
   ]
  }
 ],
 "metadata": {
  "kernelspec": {
   "display_name": "Python 3",
   "language": "python",
   "name": "python3"
  },
  "language_info": {
   "codemirror_mode": {
    "name": "ipython",
    "version": 3
   },
   "file_extension": ".py",
   "mimetype": "text/x-python",
   "name": "python",
   "nbconvert_exporter": "python",
   "pygments_lexer": "ipython3",
   "version": "3.6.4"
  }
 },
 "nbformat": 4,
 "nbformat_minor": 1
}
